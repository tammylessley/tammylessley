{
 "cells": [
  {
   "cell_type": "code",
   "execution_count": 2,
   "metadata": {},
   "outputs": [
    {
     "name": "stdout",
     "output_type": "stream",
     "text": [
      "Requirement already satisfied: autoviz in c:\\users\\tamle\\anaconda3\\lib\\site-packages (0.0.83)\n",
      "Requirement already satisfied: pandas in c:\\users\\tamle\\anaconda3\\lib\\site-packages (from autoviz) (1.1.3)\n",
      "Requirement already satisfied: xgboost in c:\\users\\tamle\\anaconda3\\lib\\site-packages (from autoviz) (1.4.2)\n",
      "Requirement already satisfied: seaborn in c:\\users\\tamle\\anaconda3\\lib\\site-packages (from autoviz) (0.11.0)\n",
      "Requirement already satisfied: jupyter in c:\\users\\tamle\\anaconda3\\lib\\site-packages (from autoviz) (1.0.0)\n",
      "Requirement already satisfied: statsmodels in c:\\users\\tamle\\anaconda3\\lib\\site-packages (from autoviz) (0.12.0)\n",
      "Requirement already satisfied: ipython in c:\\users\\tamle\\anaconda3\\lib\\site-packages (from autoviz) (7.19.0)\n",
      "Requirement already satisfied: scikit-learn in c:\\users\\tamle\\anaconda3\\lib\\site-packages (from autoviz) (0.23.2)\n",
      "Requirement already satisfied: matplotlib in c:\\users\\tamle\\anaconda3\\lib\\site-packages (from autoviz) (3.3.2)\n",
      "Requirement already satisfied: python-dateutil>=2.7.3 in c:\\users\\tamle\\anaconda3\\lib\\site-packages (from pandas->autoviz) (2.8.1)\n",
      "Requirement already satisfied: pytz>=2017.2 in c:\\users\\tamle\\anaconda3\\lib\\site-packages (from pandas->autoviz) (2020.1)\n",
      "Requirement already satisfied: numpy>=1.15.4 in c:\\users\\tamle\\anaconda3\\lib\\site-packages (from pandas->autoviz) (1.19.2)\n",
      "Requirement already satisfied: scipy in c:\\users\\tamle\\anaconda3\\lib\\site-packages (from xgboost->autoviz) (1.5.2)\n",
      "Requirement already satisfied: jupyter-console in c:\\users\\tamle\\anaconda3\\lib\\site-packages (from jupyter->autoviz) (6.2.0)\n",
      "Requirement already satisfied: ipywidgets in c:\\users\\tamle\\anaconda3\\lib\\site-packages (from jupyter->autoviz) (7.5.1)\n",
      "Requirement already satisfied: nbconvert in c:\\users\\tamle\\anaconda3\\lib\\site-packages (from jupyter->autoviz) (6.0.7)\n",
      "Requirement already satisfied: ipykernel in c:\\users\\tamle\\anaconda3\\lib\\site-packages (from jupyter->autoviz) (5.3.4)\n",
      "Requirement already satisfied: qtconsole in c:\\users\\tamle\\anaconda3\\lib\\site-packages (from jupyter->autoviz) (4.7.7)\n",
      "Requirement already satisfied: notebook in c:\\users\\tamle\\anaconda3\\lib\\site-packages (from jupyter->autoviz) (6.1.4)\n",
      "Requirement already satisfied: patsy>=0.5 in c:\\users\\tamle\\anaconda3\\lib\\site-packages (from statsmodels->autoviz) (0.5.1)\n",
      "Requirement already satisfied: prompt-toolkit!=3.0.0,!=3.0.1,<3.1.0,>=2.0.0 in c:\\users\\tamle\\anaconda3\\lib\\site-packages (from ipython->autoviz) (3.0.8)\n",
      "Requirement already satisfied: pygments in c:\\users\\tamle\\anaconda3\\lib\\site-packages (from ipython->autoviz) (2.7.2)\n",
      "Requirement already satisfied: decorator in c:\\users\\tamle\\anaconda3\\lib\\site-packages (from ipython->autoviz) (4.4.2)\n",
      "Requirement already satisfied: backcall in c:\\users\\tamle\\anaconda3\\lib\\site-packages (from ipython->autoviz) (0.2.0)\n",
      "Requirement already satisfied: pickleshare in c:\\users\\tamle\\anaconda3\\lib\\site-packages (from ipython->autoviz) (0.7.5)\n",
      "Requirement already satisfied: jedi>=0.10 in c:\\users\\tamle\\anaconda3\\lib\\site-packages (from ipython->autoviz) (0.17.1)\n",
      "Requirement already satisfied: setuptools>=18.5 in c:\\users\\tamle\\anaconda3\\lib\\site-packages (from ipython->autoviz) (50.3.1.post20201107)\n",
      "Requirement already satisfied: traitlets>=4.2 in c:\\users\\tamle\\anaconda3\\lib\\site-packages (from ipython->autoviz) (5.0.5)\n",
      "Requirement already satisfied: colorama; sys_platform == \"win32\" in c:\\users\\tamle\\anaconda3\\lib\\site-packages (from ipython->autoviz) (0.4.4)\n",
      "Requirement already satisfied: joblib>=0.11 in c:\\users\\tamle\\anaconda3\\lib\\site-packages (from scikit-learn->autoviz) (0.17.0)\n",
      "Requirement already satisfied: threadpoolctl>=2.0.0 in c:\\users\\tamle\\anaconda3\\lib\\site-packages (from scikit-learn->autoviz) (2.1.0)\n",
      "Requirement already satisfied: pillow>=6.2.0 in c:\\users\\tamle\\anaconda3\\lib\\site-packages (from matplotlib->autoviz) (8.0.1)\n",
      "Requirement already satisfied: certifi>=2020.06.20 in c:\\users\\tamle\\anaconda3\\lib\\site-packages (from matplotlib->autoviz) (2020.6.20)\n",
      "Requirement already satisfied: kiwisolver>=1.0.1 in c:\\users\\tamle\\anaconda3\\lib\\site-packages (from matplotlib->autoviz) (1.3.0)\n",
      "Requirement already satisfied: cycler>=0.10 in c:\\users\\tamle\\anaconda3\\lib\\site-packages (from matplotlib->autoviz) (0.10.0)\n",
      "Requirement already satisfied: pyparsing!=2.0.4,!=2.1.2,!=2.1.6,>=2.0.3 in c:\\users\\tamle\\anaconda3\\lib\\site-packages (from matplotlib->autoviz) (2.4.7)\n",
      "Requirement already satisfied: six>=1.5 in c:\\users\\tamle\\anaconda3\\lib\\site-packages (from python-dateutil>=2.7.3->pandas->autoviz) (1.15.0)\n",
      "Requirement already satisfied: jupyter-client in c:\\users\\tamle\\anaconda3\\lib\\site-packages (from jupyter-console->jupyter->autoviz) (6.1.7)\n",
      "Requirement already satisfied: widgetsnbextension~=3.5.0 in c:\\users\\tamle\\anaconda3\\lib\\site-packages (from ipywidgets->jupyter->autoviz) (3.5.1)\n",
      "Requirement already satisfied: nbformat>=4.2.0 in c:\\users\\tamle\\anaconda3\\lib\\site-packages (from ipywidgets->jupyter->autoviz) (5.0.8)\n",
      "Requirement already satisfied: mistune<2,>=0.8.1 in c:\\users\\tamle\\anaconda3\\lib\\site-packages (from nbconvert->jupyter->autoviz) (0.8.4)\n",
      "Requirement already satisfied: pandocfilters>=1.4.1 in c:\\users\\tamle\\anaconda3\\lib\\site-packages (from nbconvert->jupyter->autoviz) (1.4.3)\n",
      "Requirement already satisfied: defusedxml in c:\\users\\tamle\\anaconda3\\lib\\site-packages (from nbconvert->jupyter->autoviz) (0.6.0)\n",
      "Requirement already satisfied: testpath in c:\\users\\tamle\\anaconda3\\lib\\site-packages (from nbconvert->jupyter->autoviz) (0.4.4)\n",
      "Requirement already satisfied: jupyter-core in c:\\users\\tamle\\anaconda3\\lib\\site-packages (from nbconvert->jupyter->autoviz) (4.6.3)\n",
      "Requirement already satisfied: nbclient<0.6.0,>=0.5.0 in c:\\users\\tamle\\anaconda3\\lib\\site-packages (from nbconvert->jupyter->autoviz) (0.5.1)\n",
      "Requirement already satisfied: jinja2>=2.4 in c:\\users\\tamle\\anaconda3\\lib\\site-packages (from nbconvert->jupyter->autoviz) (2.11.2)\n",
      "Requirement already satisfied: entrypoints>=0.2.2 in c:\\users\\tamle\\anaconda3\\lib\\site-packages (from nbconvert->jupyter->autoviz) (0.3)\n",
      "Requirement already satisfied: bleach in c:\\users\\tamle\\anaconda3\\lib\\site-packages (from nbconvert->jupyter->autoviz) (3.2.1)\n",
      "Requirement already satisfied: jupyterlab-pygments in c:\\users\\tamle\\anaconda3\\lib\\site-packages (from nbconvert->jupyter->autoviz) (0.1.2)\n",
      "Requirement already satisfied: tornado>=4.2 in c:\\users\\tamle\\anaconda3\\lib\\site-packages (from ipykernel->jupyter->autoviz) (6.0.4)\n",
      "Requirement already satisfied: qtpy in c:\\users\\tamle\\anaconda3\\lib\\site-packages (from qtconsole->jupyter->autoviz) (1.9.0)\n",
      "Requirement already satisfied: pyzmq>=17.1 in c:\\users\\tamle\\anaconda3\\lib\\site-packages (from qtconsole->jupyter->autoviz) (19.0.2)\n",
      "Requirement already satisfied: ipython-genutils in c:\\users\\tamle\\anaconda3\\lib\\site-packages (from qtconsole->jupyter->autoviz) (0.2.0)\n",
      "Requirement already satisfied: terminado>=0.8.3 in c:\\users\\tamle\\anaconda3\\lib\\site-packages (from notebook->jupyter->autoviz) (0.9.1)\n",
      "Requirement already satisfied: prometheus-client in c:\\users\\tamle\\anaconda3\\lib\\site-packages (from notebook->jupyter->autoviz) (0.8.0)\n",
      "Requirement already satisfied: Send2Trash in c:\\users\\tamle\\anaconda3\\lib\\site-packages (from notebook->jupyter->autoviz) (1.5.0)\n",
      "Requirement already satisfied: argon2-cffi in c:\\users\\tamle\\anaconda3\\lib\\site-packages (from notebook->jupyter->autoviz) (20.1.0)\n",
      "Requirement already satisfied: wcwidth in c:\\users\\tamle\\anaconda3\\lib\\site-packages (from prompt-toolkit!=3.0.0,!=3.0.1,<3.1.0,>=2.0.0->ipython->autoviz) (0.2.5)\n",
      "Requirement already satisfied: parso<0.8.0,>=0.7.0 in c:\\users\\tamle\\anaconda3\\lib\\site-packages (from jedi>=0.10->ipython->autoviz) (0.7.0)\n",
      "Requirement already satisfied: jsonschema!=2.5.0,>=2.4 in c:\\users\\tamle\\anaconda3\\lib\\site-packages (from nbformat>=4.2.0->ipywidgets->jupyter->autoviz) (3.2.0)\n",
      "Requirement already satisfied: pywin32>=1.0; sys_platform == \"win32\" in c:\\users\\tamle\\anaconda3\\lib\\site-packages (from jupyter-core->nbconvert->jupyter->autoviz) (227)\n",
      "Requirement already satisfied: nest-asyncio in c:\\users\\tamle\\anaconda3\\lib\\site-packages (from nbclient<0.6.0,>=0.5.0->nbconvert->jupyter->autoviz) (1.4.2)\n",
      "Requirement already satisfied: async-generator in c:\\users\\tamle\\anaconda3\\lib\\site-packages (from nbclient<0.6.0,>=0.5.0->nbconvert->jupyter->autoviz) (1.10)\n",
      "Requirement already satisfied: MarkupSafe>=0.23 in c:\\users\\tamle\\anaconda3\\lib\\site-packages (from jinja2>=2.4->nbconvert->jupyter->autoviz) (1.1.1)\n",
      "Requirement already satisfied: packaging in c:\\users\\tamle\\anaconda3\\lib\\site-packages (from bleach->nbconvert->jupyter->autoviz) (20.4)\n",
      "Requirement already satisfied: webencodings in c:\\users\\tamle\\anaconda3\\lib\\site-packages (from bleach->nbconvert->jupyter->autoviz) (0.5.1)\n",
      "Requirement already satisfied: pywinpty>=0.5 in c:\\users\\tamle\\anaconda3\\lib\\site-packages (from terminado>=0.8.3->notebook->jupyter->autoviz) (0.5.7)\n",
      "Requirement already satisfied: cffi>=1.0.0 in c:\\users\\tamle\\anaconda3\\lib\\site-packages (from argon2-cffi->notebook->jupyter->autoviz) (1.14.3)\n",
      "Requirement already satisfied: attrs>=17.4.0 in c:\\users\\tamle\\anaconda3\\lib\\site-packages (from jsonschema!=2.5.0,>=2.4->nbformat>=4.2.0->ipywidgets->jupyter->autoviz) (20.3.0)\n",
      "Requirement already satisfied: pyrsistent>=0.14.0 in c:\\users\\tamle\\anaconda3\\lib\\site-packages (from jsonschema!=2.5.0,>=2.4->nbformat>=4.2.0->ipywidgets->jupyter->autoviz) (0.17.3)\n",
      "Requirement already satisfied: pycparser in c:\\users\\tamle\\anaconda3\\lib\\site-packages (from cffi>=1.0.0->argon2-cffi->notebook->jupyter->autoviz) (2.20)\n"
     ]
    },
    {
     "name": "stdout",
     "output_type": "stream",
     "text": [
      "Requirement already satisfied: wordcloud in c:\\users\\tamle\\anaconda3\\lib\\site-packages (1.8.1)\n",
      "Requirement already satisfied: pillow in c:\\users\\tamle\\anaconda3\\lib\\site-packages (from wordcloud) (8.0.1)\n",
      "Requirement already satisfied: numpy>=1.6.1 in c:\\users\\tamle\\anaconda3\\lib\\site-packages (from wordcloud) (1.19.2)\n",
      "Requirement already satisfied: matplotlib in c:\\users\\tamle\\anaconda3\\lib\\site-packages (from wordcloud) (3.3.2)\n",
      "Requirement already satisfied: kiwisolver>=1.0.1 in c:\\users\\tamle\\anaconda3\\lib\\site-packages (from matplotlib->wordcloud) (1.3.0)\n",
      "Requirement already satisfied: cycler>=0.10 in c:\\users\\tamle\\anaconda3\\lib\\site-packages (from matplotlib->wordcloud) (0.10.0)\n",
      "Requirement already satisfied: python-dateutil>=2.1 in c:\\users\\tamle\\anaconda3\\lib\\site-packages (from matplotlib->wordcloud) (2.8.1)\n",
      "Requirement already satisfied: certifi>=2020.06.20 in c:\\users\\tamle\\anaconda3\\lib\\site-packages (from matplotlib->wordcloud) (2020.6.20)\n",
      "Requirement already satisfied: pyparsing!=2.0.4,!=2.1.2,!=2.1.6,>=2.0.3 in c:\\users\\tamle\\anaconda3\\lib\\site-packages (from matplotlib->wordcloud) (2.4.7)\n",
      "Requirement already satisfied: six in c:\\users\\tamle\\anaconda3\\lib\\site-packages (from cycler>=0.10->matplotlib->wordcloud) (1.15.0)\n",
      "Imported AutoViz_Class version: 0.0.83. Call using:\n",
      "    AV = AutoViz_Class()\n",
      "    AV.AutoViz(filename, sep=',', depVar='', dfte=None, header=0, verbose=0,\n",
      "                            lowess=False,chart_format='svg',max_rows_analyzed=150000,max_cols_analyzed=30)\n",
      "Note: verbose=0 or 1 generates charts and displays them in your local Jupyter notebook.\n",
      "      verbose=2 does not show plot but creates them and saves them in AutoViz_Plots directory in your local machine.\n"
     ]
    }
   ],
   "source": [
    "import pandas as pd\n",
    "import numpy as np\n",
    "!pip install autoviz\n",
    "!pip install wordcloud\n",
    "from autoviz.AutoViz_Class import AutoViz_Class\n",
    "# this will enable the visualization of the data \n",
    "import matplotlib.pyplot as plt\n",
    "%matplotlib inline\n",
    "#not sure I want the below items here.....\n",
    "from sklearn import preprocessing\n",
    "# these will allow for the KNN process later\n",
    "from sklearn.model_selection import cross_val_score\n",
    "from sklearn.neighbors import KNeighborsClassifier"
   ]
  },
  {
   "cell_type": "code",
   "execution_count": 5,
   "metadata": {},
   "outputs": [
    {
     "name": "stdout",
     "output_type": "stream",
     "text": [
      "       PackageSizeName MaterialId Brand ProdCategory SoldToCorporate Entity  \\\n",
      "0                 P_15      M_127   B_3          C_2                  SC_34   \n",
      "1                 P_15      M_127   B_3          C_2                  SC_34   \n",
      "2                 P_15      M_127   B_3          C_2                  SC_34   \n",
      "3                 P_15      M_127   B_3          C_2                  SC_34   \n",
      "4                 P_15      M_127   B_3          C_2                  SC_34   \n",
      "...                ...        ...   ...          ...                    ...   \n",
      "100656            P_15      M_129   B_3          C_2                 SC_861   \n",
      "100657            P_15      M_129   B_3          C_2                 SC_861   \n",
      "100658            P_15      M_129   B_3          C_2                 SC_861   \n",
      "100659            P_15      M_129   B_3          C_2                 SC_861   \n",
      "100660            P_15      M_129   B_3          C_2                 SC_861   \n",
      "\n",
      "       SoldToBanner SoldToRegional SoldToPartner       Date  UnitsSold  \\\n",
      "0             SB_35          SR_45        SP_104  7/13/2019        0.0   \n",
      "1             SB_35          SR_45        SP_104   8/3/2019        0.0   \n",
      "2             SB_35          SR_45        SP_104  8/31/2019        1.0   \n",
      "3             SB_35          SR_45        SP_104  10/5/2019        0.0   \n",
      "4             SB_35          SR_45        SP_104   1/4/2020        0.0   \n",
      "...             ...            ...           ...        ...        ...   \n",
      "100656       SB_871         SR_916       SP_2900  5/28/2022     5445.0   \n",
      "100657       SB_871         SR_916       SP_2900   6/4/2022     5967.0   \n",
      "100658       SB_871         SR_916       SP_2900  6/11/2022     6023.0   \n",
      "100659       SB_871         SR_916       SP_2900  6/18/2022     3738.0   \n",
      "100660       SB_871         SR_916       SP_2900  6/25/2022     5175.0   \n",
      "\n",
      "          DateDate  DateYear  DateWeek  \n",
      "0       2019-07-13      2019        27  \n",
      "1       2019-08-03      2019        30  \n",
      "2       2019-08-31      2019        34  \n",
      "3       2019-10-05      2019        39  \n",
      "4       2020-01-04      2020         0  \n",
      "...            ...       ...       ...  \n",
      "100656  2022-05-28      2022        21  \n",
      "100657  2022-06-04      2022        22  \n",
      "100658  2022-06-11      2022        23  \n",
      "100659  2022-06-18      2022        24  \n",
      "100660  2022-06-25      2022        25  \n",
      "\n",
      "[100661 rows x 13 columns]\n"
     ]
    },
    {
     "data": {
      "text/html": [
       "<div>\n",
       "<style scoped>\n",
       "    .dataframe tbody tr th:only-of-type {\n",
       "        vertical-align: middle;\n",
       "    }\n",
       "\n",
       "    .dataframe tbody tr th {\n",
       "        vertical-align: top;\n",
       "    }\n",
       "\n",
       "    .dataframe thead th {\n",
       "        text-align: right;\n",
       "    }\n",
       "</style>\n",
       "<table border=\"1\" class=\"dataframe\">\n",
       "  <thead>\n",
       "    <tr style=\"text-align: right;\">\n",
       "      <th></th>\n",
       "      <th>PackageSizeName</th>\n",
       "      <th>MaterialId</th>\n",
       "      <th>Brand</th>\n",
       "      <th>ProdCategory</th>\n",
       "      <th>SoldToCorporate Entity</th>\n",
       "      <th>SoldToBanner</th>\n",
       "      <th>SoldToRegional</th>\n",
       "      <th>SoldToPartner</th>\n",
       "      <th>Date</th>\n",
       "      <th>UnitsSold</th>\n",
       "      <th>DateDate</th>\n",
       "      <th>DateYear</th>\n",
       "      <th>DateWeek</th>\n",
       "    </tr>\n",
       "  </thead>\n",
       "  <tbody>\n",
       "    <tr>\n",
       "      <th>0</th>\n",
       "      <td>P_15</td>\n",
       "      <td>M_127</td>\n",
       "      <td>B_3</td>\n",
       "      <td>C_2</td>\n",
       "      <td>SC_34</td>\n",
       "      <td>SB_35</td>\n",
       "      <td>SR_45</td>\n",
       "      <td>SP_104</td>\n",
       "      <td>7/13/2019</td>\n",
       "      <td>0.0</td>\n",
       "      <td>2019-07-13</td>\n",
       "      <td>2019</td>\n",
       "      <td>27</td>\n",
       "    </tr>\n",
       "    <tr>\n",
       "      <th>1</th>\n",
       "      <td>P_15</td>\n",
       "      <td>M_127</td>\n",
       "      <td>B_3</td>\n",
       "      <td>C_2</td>\n",
       "      <td>SC_34</td>\n",
       "      <td>SB_35</td>\n",
       "      <td>SR_45</td>\n",
       "      <td>SP_104</td>\n",
       "      <td>8/3/2019</td>\n",
       "      <td>0.0</td>\n",
       "      <td>2019-08-03</td>\n",
       "      <td>2019</td>\n",
       "      <td>30</td>\n",
       "    </tr>\n",
       "    <tr>\n",
       "      <th>2</th>\n",
       "      <td>P_15</td>\n",
       "      <td>M_127</td>\n",
       "      <td>B_3</td>\n",
       "      <td>C_2</td>\n",
       "      <td>SC_34</td>\n",
       "      <td>SB_35</td>\n",
       "      <td>SR_45</td>\n",
       "      <td>SP_104</td>\n",
       "      <td>8/31/2019</td>\n",
       "      <td>1.0</td>\n",
       "      <td>2019-08-31</td>\n",
       "      <td>2019</td>\n",
       "      <td>34</td>\n",
       "    </tr>\n",
       "    <tr>\n",
       "      <th>3</th>\n",
       "      <td>P_15</td>\n",
       "      <td>M_127</td>\n",
       "      <td>B_3</td>\n",
       "      <td>C_2</td>\n",
       "      <td>SC_34</td>\n",
       "      <td>SB_35</td>\n",
       "      <td>SR_45</td>\n",
       "      <td>SP_104</td>\n",
       "      <td>10/5/2019</td>\n",
       "      <td>0.0</td>\n",
       "      <td>2019-10-05</td>\n",
       "      <td>2019</td>\n",
       "      <td>39</td>\n",
       "    </tr>\n",
       "    <tr>\n",
       "      <th>4</th>\n",
       "      <td>P_15</td>\n",
       "      <td>M_127</td>\n",
       "      <td>B_3</td>\n",
       "      <td>C_2</td>\n",
       "      <td>SC_34</td>\n",
       "      <td>SB_35</td>\n",
       "      <td>SR_45</td>\n",
       "      <td>SP_104</td>\n",
       "      <td>1/4/2020</td>\n",
       "      <td>0.0</td>\n",
       "      <td>2020-01-04</td>\n",
       "      <td>2020</td>\n",
       "      <td>0</td>\n",
       "    </tr>\n",
       "  </tbody>\n",
       "</table>\n",
       "</div>"
      ],
      "text/plain": [
       "  PackageSizeName MaterialId Brand ProdCategory SoldToCorporate Entity  \\\n",
       "0            P_15      M_127   B_3          C_2                  SC_34   \n",
       "1            P_15      M_127   B_3          C_2                  SC_34   \n",
       "2            P_15      M_127   B_3          C_2                  SC_34   \n",
       "3            P_15      M_127   B_3          C_2                  SC_34   \n",
       "4            P_15      M_127   B_3          C_2                  SC_34   \n",
       "\n",
       "  SoldToBanner SoldToRegional SoldToPartner       Date  UnitsSold    DateDate  \\\n",
       "0        SB_35          SR_45        SP_104  7/13/2019        0.0  2019-07-13   \n",
       "1        SB_35          SR_45        SP_104   8/3/2019        0.0  2019-08-03   \n",
       "2        SB_35          SR_45        SP_104  8/31/2019        1.0  2019-08-31   \n",
       "3        SB_35          SR_45        SP_104  10/5/2019        0.0  2019-10-05   \n",
       "4        SB_35          SR_45        SP_104   1/4/2020        0.0  2020-01-04   \n",
       "\n",
       "   DateYear  DateWeek  \n",
       "0      2019        27  \n",
       "1      2019        30  \n",
       "2      2019        34  \n",
       "3      2019        39  \n",
       "4      2020         0  "
      ]
     },
     "execution_count": 5,
     "metadata": {},
     "output_type": "execute_result"
    }
   ],
   "source": [
    "# dataset is 10 fields (157,651 rows) regarding the marketing scheme for a bank based off of customer's:\n",
    "# X/independent/predictive variables:\n",
    "#   PackageSizeName - string\n",
    "#   MaterialId - string\n",
    "#   Brand - string\n",
    "#   ProdCategory - string\n",
    "#   SoldToCorporateEntity  - string\n",
    "#   SoldToBanner - string\n",
    "#   SoldToRegional - string\n",
    "#   SoldToPartner - string\n",
    "#   Date - date\n",
    " \n",
    "\n",
    "# Y/dependent/target variable:\n",
    "# UnitsSold - decimal\n",
    "\n",
    "df = pd.read_csv(r'C:\\Users\\tamle\\Desktop\\Utica\\5 - MSDS Summer 2022\\DSC-680 Capstone\\datasets for python\\BaseDataNullsRemoved.csv')\n",
    "print(df)\n",
    "df.head()"
   ]
  },
  {
   "cell_type": "code",
   "execution_count": 6,
   "metadata": {},
   "outputs": [
    {
     "name": "stdout",
     "output_type": "stream",
     "text": [
      "Shape of your Data Set loaded: (100661, 13)\n",
      "############## C L A S S I F Y I N G  V A R I A B L E S  ####################\n",
      "Classifying variables in data set...\n",
      "    Number of Numeric Columns =  1\n",
      "    Number of Integer-Categorical Columns =  1\n",
      "    Number of String-Categorical Columns =  1\n",
      "    Number of Factor-Categorical Columns =  0\n",
      "    Number of String-Boolean Columns =  0\n",
      "    Number of Numeric-Boolean Columns =  0\n",
      "    Number of Discrete String Columns =  6\n",
      "    Number of NLP String Columns =  0\n",
      "    Number of Date Time Columns =  1\n",
      "    Number of ID Columns =  0\n",
      "    Number of Columns to Delete =  3\n",
      "    13 Predictors classified...\n",
      "        This does not include the Target column(s)\n",
      "        9 variables removed since they were ID or low-information variables\n"
     ]
    },
    {
     "data": {
      "image/png": "[encoded data removed]",
      "text/plain": [
       "<Figure size 1080x360 with 3 Axes>"
      ]
     },
     "metadata": {
      "needs_background": "light"
     },
     "output_type": "display_data"
    },
    {
     "data": {
      "image/png": "[encoded data removed]",
      "text/plain": [
       "<Figure size 1080x360 with 1 Axes>"
      ]
     },
     "metadata": {
      "needs_background": "light"
     },
     "output_type": "display_data"
    },
    {
     "data": {
      "image/png": "[encoded data removed]",
      "text/plain": [
       "<Figure size 1080x288 with 1 Axes>"
      ]
     },
     "metadata": {
      "needs_background": "light"
     },
     "output_type": "display_data"
    },
    {
     "data": {
      "image/png": "[encoded data removed]",
      "text/plain": [
       "<Figure size 432x288 with 2 Axes>"
      ]
     },
     "metadata": {
      "needs_background": "light"
     },
     "output_type": "display_data"
    },
    {
     "data": {
      "text/plain": [
       "<Figure size 1080x0 with 0 Axes>"
      ]
     },
     "metadata": {},
     "output_type": "display_data"
    },
    {
     "data": {
      "image/png": "[encoded data removed]",
      "text/plain": [
       "<Figure size 1440x360 with 2 Axes>"
      ]
     },
     "metadata": {
      "needs_background": "light"
     },
     "output_type": "display_data"
    },
    {
     "name": "stdout",
     "output_type": "stream",
     "text": [
      "Time to run AutoViz (in seconds) = 10.095\n",
      "\n",
      " ###################### VISUALIZATION Completed ########################\n"
     ]
    }
   ],
   "source": [
    "df1 = AutoViz_Class()\n",
    "filename = \"\"\n",
    "sep = \",\"\n",
    "\n",
    "graph = df1.AutoViz(\n",
    "    filename, \n",
    "    sep = \",\",\n",
    "    depVar = \"\",\n",
    "    dfte = df, \n",
    "    header = 0,\n",
    "    verbose = 0,\n",
    "    lowess = False,\n",
    "    chart_format = \"svg\",\n",
    "    max_rows_analyzed = 157651,\n",
    "    max_cols_analyzed = 10,\n",
    "    )"
   ]
  },
  {
   "cell_type": "code",
   "execution_count": 7,
   "metadata": {},
   "outputs": [
    {
     "data": {
      "text/html": [
       "<div>\n",
       "<style scoped>\n",
       "    .dataframe tbody tr th:only-of-type {\n",
       "        vertical-align: middle;\n",
       "    }\n",
       "\n",
       "    .dataframe tbody tr th {\n",
       "        vertical-align: top;\n",
       "    }\n",
       "\n",
       "    .dataframe thead th {\n",
       "        text-align: right;\n",
       "    }\n",
       "</style>\n",
       "<table border=\"1\" class=\"dataframe\">\n",
       "  <thead>\n",
       "    <tr style=\"text-align: right;\">\n",
       "      <th></th>\n",
       "      <th>PackageSizeName</th>\n",
       "      <th>MaterialId</th>\n",
       "      <th>Brand</th>\n",
       "      <th>ProdCategory</th>\n",
       "      <th>SoldToCorporate Entity</th>\n",
       "      <th>SoldToBanner</th>\n",
       "      <th>SoldToRegional</th>\n",
       "      <th>SoldToPartner</th>\n",
       "      <th>Date</th>\n",
       "      <th>UnitsSold</th>\n",
       "      <th>DateDate</th>\n",
       "      <th>DateYear</th>\n",
       "      <th>DateWeek</th>\n",
       "    </tr>\n",
       "    <tr>\n",
       "      <th>DateDate</th>\n",
       "      <th></th>\n",
       "      <th></th>\n",
       "      <th></th>\n",
       "      <th></th>\n",
       "      <th></th>\n",
       "      <th></th>\n",
       "      <th></th>\n",
       "      <th></th>\n",
       "      <th></th>\n",
       "      <th></th>\n",
       "      <th></th>\n",
       "      <th></th>\n",
       "      <th></th>\n",
       "    </tr>\n",
       "  </thead>\n",
       "  <tbody>\n",
       "    <tr>\n",
       "      <th>2019-07-13</th>\n",
       "      <td>P_15</td>\n",
       "      <td>M_127</td>\n",
       "      <td>B_3</td>\n",
       "      <td>C_2</td>\n",
       "      <td>SC_34</td>\n",
       "      <td>SB_35</td>\n",
       "      <td>SR_45</td>\n",
       "      <td>SP_104</td>\n",
       "      <td>7/13/2019</td>\n",
       "      <td>0.0</td>\n",
       "      <td>2019-07-13</td>\n",
       "      <td>2019</td>\n",
       "      <td>27</td>\n",
       "    </tr>\n",
       "    <tr>\n",
       "      <th>2019-08-03</th>\n",
       "      <td>P_15</td>\n",
       "      <td>M_127</td>\n",
       "      <td>B_3</td>\n",
       "      <td>C_2</td>\n",
       "      <td>SC_34</td>\n",
       "      <td>SB_35</td>\n",
       "      <td>SR_45</td>\n",
       "      <td>SP_104</td>\n",
       "      <td>8/3/2019</td>\n",
       "      <td>0.0</td>\n",
       "      <td>2019-08-03</td>\n",
       "      <td>2019</td>\n",
       "      <td>30</td>\n",
       "    </tr>\n",
       "    <tr>\n",
       "      <th>2019-08-31</th>\n",
       "      <td>P_15</td>\n",
       "      <td>M_127</td>\n",
       "      <td>B_3</td>\n",
       "      <td>C_2</td>\n",
       "      <td>SC_34</td>\n",
       "      <td>SB_35</td>\n",
       "      <td>SR_45</td>\n",
       "      <td>SP_104</td>\n",
       "      <td>8/31/2019</td>\n",
       "      <td>1.0</td>\n",
       "      <td>2019-08-31</td>\n",
       "      <td>2019</td>\n",
       "      <td>34</td>\n",
       "    </tr>\n",
       "    <tr>\n",
       "      <th>2019-10-05</th>\n",
       "      <td>P_15</td>\n",
       "      <td>M_127</td>\n",
       "      <td>B_3</td>\n",
       "      <td>C_2</td>\n",
       "      <td>SC_34</td>\n",
       "      <td>SB_35</td>\n",
       "      <td>SR_45</td>\n",
       "      <td>SP_104</td>\n",
       "      <td>10/5/2019</td>\n",
       "      <td>0.0</td>\n",
       "      <td>2019-10-05</td>\n",
       "      <td>2019</td>\n",
       "      <td>39</td>\n",
       "    </tr>\n",
       "    <tr>\n",
       "      <th>2020-01-04</th>\n",
       "      <td>P_15</td>\n",
       "      <td>M_127</td>\n",
       "      <td>B_3</td>\n",
       "      <td>C_2</td>\n",
       "      <td>SC_34</td>\n",
       "      <td>SB_35</td>\n",
       "      <td>SR_45</td>\n",
       "      <td>SP_104</td>\n",
       "      <td>1/4/2020</td>\n",
       "      <td>0.0</td>\n",
       "      <td>2020-01-04</td>\n",
       "      <td>2020</td>\n",
       "      <td>0</td>\n",
       "    </tr>\n",
       "  </tbody>\n",
       "</table>\n",
       "</div>"
      ],
      "text/plain": [
       "           PackageSizeName MaterialId Brand ProdCategory  \\\n",
       "DateDate                                                   \n",
       "2019-07-13            P_15      M_127   B_3          C_2   \n",
       "2019-08-03            P_15      M_127   B_3          C_2   \n",
       "2019-08-31            P_15      M_127   B_3          C_2   \n",
       "2019-10-05            P_15      M_127   B_3          C_2   \n",
       "2020-01-04            P_15      M_127   B_3          C_2   \n",
       "\n",
       "           SoldToCorporate Entity SoldToBanner SoldToRegional SoldToPartner  \\\n",
       "DateDate                                                                      \n",
       "2019-07-13                  SC_34        SB_35          SR_45        SP_104   \n",
       "2019-08-03                  SC_34        SB_35          SR_45        SP_104   \n",
       "2019-08-31                  SC_34        SB_35          SR_45        SP_104   \n",
       "2019-10-05                  SC_34        SB_35          SR_45        SP_104   \n",
       "2020-01-04                  SC_34        SB_35          SR_45        SP_104   \n",
       "\n",
       "                 Date  UnitsSold    DateDate  DateYear  DateWeek  \n",
       "DateDate                                                          \n",
       "2019-07-13  7/13/2019        0.0  2019-07-13      2019        27  \n",
       "2019-08-03   8/3/2019        0.0  2019-08-03      2019        30  \n",
       "2019-08-31  8/31/2019        1.0  2019-08-31      2019        34  \n",
       "2019-10-05  10/5/2019        0.0  2019-10-05      2019        39  \n",
       "2020-01-04   1/4/2020        0.0  2020-01-04      2020         0  "
      ]
     },
     "execution_count": 7,
     "metadata": {},
     "output_type": "execute_result"
    }
   ],
   "source": [
    "df.index = pd.to_datetime(df['DateDate'])\n",
    "#df.drop(columns='Date',inplace=True)\n",
    "df.head()"
   ]
  },
  {
   "cell_type": "code",
   "execution_count": 8,
   "metadata": {},
   "outputs": [
    {
     "data": {
      "text/plain": [
       "PackageSizeName           0\n",
       "MaterialId                0\n",
       "Brand                     0\n",
       "ProdCategory              0\n",
       "SoldToCorporate Entity    0\n",
       "SoldToBanner              0\n",
       "SoldToRegional            0\n",
       "SoldToPartner             0\n",
       "Date                      0\n",
       "UnitsSold                 0\n",
       "DateDate                  0\n",
       "DateYear                  0\n",
       "DateWeek                  0\n",
       "dtype: int64"
      ]
     },
     "execution_count": 8,
     "metadata": {},
     "output_type": "execute_result"
    }
   ],
   "source": [
    "df.isna().sum()"
   ]
  },
  {
   "cell_type": "code",
   "execution_count": 9,
   "metadata": {},
   "outputs": [
    {
     "data": {
      "text/plain": [
       "<AxesSubplot:xlabel='DateDate'>"
      ]
     },
     "execution_count": 9,
     "metadata": {},
     "output_type": "execute_result"
    },
    {
     "data": {
      "image/png": "[encoded data removed]",
      "text/plain": [
       "<Figure size 432x288 with 1 Axes>"
      ]
     },
     "metadata": {
      "needs_background": "light"
     },
     "output_type": "display_data"
    }
   ],
   "source": [
    "#plotting the UnitsSold vs Date\n",
    "df.plot()"
   ]
  },
  {
   "cell_type": "code",
   "execution_count": 38,
   "metadata": {},
   "outputs": [
    {
     "data": {
      "text/html": [
       "<div>\n",
       "<style scoped>\n",
       "    .dataframe tbody tr th:only-of-type {\n",
       "        vertical-align: middle;\n",
       "    }\n",
       "\n",
       "    .dataframe tbody tr th {\n",
       "        vertical-align: top;\n",
       "    }\n",
       "\n",
       "    .dataframe thead th {\n",
       "        text-align: right;\n",
       "    }\n",
       "</style>\n",
       "<table border=\"1\" class=\"dataframe\">\n",
       "  <thead>\n",
       "    <tr style=\"text-align: right;\">\n",
       "      <th></th>\n",
       "      <th>UnitsSold</th>\n",
       "    </tr>\n",
       "    <tr>\n",
       "      <th>DateDate</th>\n",
       "      <th></th>\n",
       "    </tr>\n",
       "  </thead>\n",
       "  <tbody>\n",
       "    <tr>\n",
       "      <th>2019-01-05</th>\n",
       "      <td>89.33</td>\n",
       "    </tr>\n",
       "    <tr>\n",
       "      <th>2019-01-05</th>\n",
       "      <td>405.00</td>\n",
       "    </tr>\n",
       "    <tr>\n",
       "      <th>2019-01-05</th>\n",
       "      <td>45.00</td>\n",
       "    </tr>\n",
       "    <tr>\n",
       "      <th>2019-01-05</th>\n",
       "      <td>225.00</td>\n",
       "    </tr>\n",
       "    <tr>\n",
       "      <th>2019-01-05</th>\n",
       "      <td>450.00</td>\n",
       "    </tr>\n",
       "  </tbody>\n",
       "</table>\n",
       "</div>"
      ],
      "text/plain": [
       "            UnitsSold\n",
       "DateDate             \n",
       "2019-01-05      89.33\n",
       "2019-01-05     405.00\n",
       "2019-01-05      45.00\n",
       "2019-01-05     225.00\n",
       "2019-01-05     450.00"
      ]
     },
     "execution_count": 38,
     "metadata": {},
     "output_type": "execute_result"
    }
   ],
   "source": [
    "#Let's narrow the df down to just Date and UnitsSold to inspect those components only with the seasonal decomposition\n",
    "df2 = df[['UnitsSold']]\n",
    "df2.sort_index(inplace=True)\n",
    "\n",
    "df2.head()"
   ]
  },
  {
   "cell_type": "code",
   "execution_count": 21,
   "metadata": {},
   "outputs": [
    {
     "data": {
      "image/png": "[encoded data removed]",
      "text/plain": [
       "<Figure size 432x288 with 4 Axes>"
      ]
     },
     "metadata": {
      "needs_background": "light"
     },
     "output_type": "display_data"
    }
   ],
   "source": [
    "# let's see the various decompositions embedded in the data\n",
    "\n",
    "\n",
    "\n",
    "from statsmodels.tsa.seasonal import seasonal_decompose\n",
    "decompose_df2 = seasonal_decompose(df2, model=\"additive\", period = round(len(df2)/2) )\n",
    "decompose_df2.plot();\n",
    "\n",
    "###Note: Started running through the SARIMA model and did not clean out the\n",
    "### NUll UnitsSold values, and it returned this result: \"ValueError: This function does not handle missing values\" \n",
    "\n",
    "### that tell's me that 1) I need another model for the base data besides SARIMA, 2) the other datasets will work in this model"
   ]
  },
  {
   "cell_type": "code",
   "execution_count": 22,
   "metadata": {},
   "outputs": [
    {
     "data": {
      "text/plain": [
       "<AxesSubplot:xlabel='DateDate'>"
      ]
     },
     "execution_count": 22,
     "metadata": {},
     "output_type": "execute_result"
    },
    {
     "data": {
      "image/png": "[encoded data removed]",
      "text/plain": [
       "<Figure size 432x288 with 1 Axes>"
      ]
     },
     "metadata": {
      "needs_background": "light"
     },
     "output_type": "display_data"
    }
   ],
   "source": [
    "seasonality=decompose_df2.seasonal\n",
    "seasonality.plot(color='green')"
   ]
  },
  {
   "cell_type": "code",
   "execution_count": 28,
   "metadata": {},
   "outputs": [
    {
     "name": "stdout",
     "output_type": "stream",
     "text": [
      "1. ADF :  -20.377558069030535\n",
      "2. P-Value :  0.0\n",
      "3. Num Of Lags :  68\n",
      "4. Num Of Observations Used For ADF Regression and Critical Values Calculation : 100592\n",
      "5. Critical Values :\n",
      "\t 1% :  -3.43041500981072\n",
      "\t 5% :  -2.8615687333196953\n",
      "\t 10% :  -2.5667852937403044\n"
     ]
    }
   ],
   "source": [
    "#check for stationary... low P-value (e.g. < .05) would be stationary.  \n",
    "\n",
    "from statsmodels.tsa.stattools import adfuller\n",
    "\n",
    "dftest = adfuller(df2.UnitsSold, autolag = 'AIC')\n",
    "\n",
    "print(\"1. ADF : \",dftest[0])\n",
    "print(\"2. P-Value : \", dftest[1])\n",
    "print(\"3. Num Of Lags : \", dftest[2])\n",
    "print(\"4. Num Of Observations Used For ADF Regression and Critical Values Calculation :\", dftest[3])\n",
    "print(\"5. Critical Values :\")\n",
    "for key, val in dftest[4].items():\n",
    "    print(\"\\t\",key, \": \", val)\n",
    "    \n",
    "##Results for df  \n",
    "#1. ADF :  -9.496270376829845\n",
    "#2. P-Value :  3.5421033162984297e-16 (aka 0.00000000000000035421033162984297) -- this means our dataset is stationary\n",
    "#3. Num Of Lags :  68\n",
    "#4. Num Of Observations Used For ADF Regression and Critical Values Calculation : 100592\n",
    "#5. Critical Values :\n",
    "\t # 1% :  -3.43041500981072\n",
    "\t # 5% :  -2.8615687333196953\n",
    "\t # 10% :  -2.5667852937403044   \n",
    "    \n",
    "##Results for df2\n",
    "#1. ADF :  -20.377558069030535\n",
    "#2. P-Value :  0.0 ---------------------this is really stationary \n",
    "#3. Num Of Lags :  68\n",
    "#4. Num Of Observations Used For ADF Regression and Critical Values Calculation : 100592\n",
    "#5. Critical Values :\n",
    "\t # 1% :  -3.43041500981072\n",
    "\t # 5% :  -2.8615687333196953\n",
    "\t # 10% :  -2.5667852937403044\n"
   ]
  },
  {
   "cell_type": "code",
   "execution_count": 95,
   "metadata": {},
   "outputs": [
    {
     "data": {
      "image/png": "[encoded data removed]",
      "text/plain": [
       "<Figure size 432x288 with 1 Axes>"
      ]
     },
     "metadata": {
      "needs_background": "light"
     },
     "output_type": "display_data"
    },
    {
     "data": {
      "image/png": "[encoded data removed]",
      "text/plain": [
       "<Figure size 432x288 with 1 Axes>"
      ]
     },
     "metadata": {
      "needs_background": "light"
     },
     "output_type": "display_data"
    }
   ],
   "source": [
    "# let's check the rolling mean \n",
    "\n",
    "rolling_mean = df2.rolling(window = 12).mean()\n",
    "df2['rolling_mean_diff'] = rolling_mean - rolling_mean.shift()\n",
    "ax1 = plt.subplot()\n",
    "df2['rolling_mean_diff'].plot(title='after rolling mean & differencing');\n",
    "ax2 = plt.subplot()\n",
    "df2.plot(title='original');\n",
    "\n",
    "\n",
    "##Note: the graph of \"after rolling mean & differencing\" shows that some of the seasonality has been ironed out and is less \n",
    "## noisy on a regular basis "
   ]
  },
  {
   "cell_type": "code",
   "execution_count": 30,
   "metadata": {},
   "outputs": [
    {
     "name": "stdout",
     "output_type": "stream",
     "text": [
      "1. ADF :  -71.53533464626776\n",
      "2. P-Value :  0.0\n",
      "3. Num Of Lags :  59\n",
      "4. Num Of Observations Used For ADF Regression and Critical Values Calculation : 100589\n",
      "5. Critical Values :\n",
      "\t 1% :  -3.430415011749644\n",
      "\t 5% :  -2.86156873417666\n",
      "\t 10% :  -2.566785294196438\n"
     ]
    }
   ],
   "source": [
    "# Let's check the adfuller on our \"rolling mean difference\"\n",
    "\n",
    "\n",
    "dftest = adfuller(df2['rolling_mean_diff'].dropna(), autolag = 'AIC')\n",
    "print(\"1. ADF : \",dftest[0])\n",
    "print(\"2. P-Value : \", dftest[1])\n",
    "print(\"3. Num Of Lags : \", dftest[2])\n",
    "print(\"4. Num Of Observations Used For ADF Regression and Critical Values Calculation :\", dftest[3])\n",
    "print(\"5. Critical Values :\")\n",
    "for key, val in dftest[4].items():\n",
    "  print(\"\\t\",key, \": \", val)\n",
    "\n",
    "##Results\n",
    "\n",
    "#1. ADF :  -71.53533464626776\n",
    "#2. P-Value :  0.0\n",
    "#3. Num Of Lags :  59\n",
    "#4. Num Of Observations Used For ADF Regression and Critical Values Calculation : 100589\n",
    "#5. Critical Values :\n",
    "#\t 1% :  -3.430415011749644\n",
    "#\t 5% :  -2.86156873417666\n",
    "#\t 10% :  -2.566785294196438\n",
    "\n",
    "\n",
    "\n"
   ]
  },
  {
   "cell_type": "code",
   "execution_count": 49,
   "metadata": {},
   "outputs": [
    {
     "data": {
      "text/html": [
       "<div>\n",
       "<style scoped>\n",
       "    .dataframe tbody tr th:only-of-type {\n",
       "        vertical-align: middle;\n",
       "    }\n",
       "\n",
       "    .dataframe tbody tr th {\n",
       "        vertical-align: top;\n",
       "    }\n",
       "\n",
       "    .dataframe thead th {\n",
       "        text-align: right;\n",
       "    }\n",
       "</style>\n",
       "<table border=\"1\" class=\"dataframe\">\n",
       "  <thead>\n",
       "    <tr style=\"text-align: right;\">\n",
       "      <th></th>\n",
       "      <th>UnitsSold</th>\n",
       "    </tr>\n",
       "    <tr>\n",
       "      <th>DateDate</th>\n",
       "      <th></th>\n",
       "    </tr>\n",
       "  </thead>\n",
       "  <tbody>\n",
       "    <tr>\n",
       "      <th>2021-01-02</th>\n",
       "      <td>9</td>\n",
       "    </tr>\n",
       "    <tr>\n",
       "      <th>2021-01-02</th>\n",
       "      <td>0</td>\n",
       "    </tr>\n",
       "    <tr>\n",
       "      <th>2021-01-02</th>\n",
       "      <td>14</td>\n",
       "    </tr>\n",
       "    <tr>\n",
       "      <th>2021-01-02</th>\n",
       "      <td>27</td>\n",
       "    </tr>\n",
       "    <tr>\n",
       "      <th>2021-01-02</th>\n",
       "      <td>0</td>\n",
       "    </tr>\n",
       "  </tbody>\n",
       "</table>\n",
       "</div>"
      ],
      "text/plain": [
       "            UnitsSold\n",
       "DateDate             \n",
       "2021-01-02          9\n",
       "2021-01-02          0\n",
       "2021-01-02         14\n",
       "2021-01-02         27\n",
       "2021-01-02          0"
      ]
     },
     "execution_count": 49,
     "metadata": {},
     "output_type": "execute_result"
    }
   ],
   "source": [
    "df2 = df2.loc['2021-01-01': '2022-06-25']\n",
    "df2.head()\n",
    "\n",
    "## tried with the entire history and it errored out\n",
    "## tried with 2020-2022 and it errored out\n",
    "## tried 2021-2022 and it moved through the ARIMA and history.fit this time"
   ]
  },
  {
   "cell_type": "code",
   "execution_count": 50,
   "metadata": {},
   "outputs": [],
   "source": [
    "## Now that the time series is even MORE stationary, let's model! \n",
    "\n",
    "from statsmodels.tsa.arima_model import ARIMA\n",
    "\n",
    "#three parameters\n",
    "# P = lags in the autoregressive model.\n",
    "# D = differencing / integration order.\n",
    "# Q =  moving average lags.\n",
    "\n",
    "\n",
    "model=ARIMA(df2['UnitsSold'],order=(1,1,1)) \n",
    "#as a starting point. P = 1, D = 1, and Q = 1\n",
    "history=model.fit()\n",
    "\n",
    "# memory error here on this dataset and size. will go back and filter the size down and remove some of the 2019 history and \n",
    "# see if that makes a difference "
   ]
  },
  {
   "cell_type": "code",
   "execution_count": 51,
   "metadata": {},
   "outputs": [
    {
     "data": {
      "text/html": [
       "<table class=\"simpletable\">\n",
       "<caption>ARIMA Model Results</caption>\n",
       "<tr>\n",
       "  <th>Dep. Variable:</th>    <td>D.UnitsSold</td>   <th>  No. Observations:  </th>    <td>40578</td>   \n",
       "</tr>\n",
       "<tr>\n",
       "  <th>Model:</th>          <td>ARIMA(1, 1, 1)</td>  <th>  Log Likelihood     </th> <td>-232996.293</td>\n",
       "</tr>\n",
       "<tr>\n",
       "  <th>Method:</th>             <td>css-mle</td>     <th>  S.D. of innovations</th>   <td>75.414</td>   \n",
       "</tr>\n",
       "<tr>\n",
       "  <th>Date:</th>          <td>Thu, 21 Jul 2022</td> <th>  AIC                </th> <td>466000.587</td> \n",
       "</tr>\n",
       "<tr>\n",
       "  <th>Time:</th>              <td>15:20:43</td>     <th>  BIC                </th> <td>466035.031</td> \n",
       "</tr>\n",
       "<tr>\n",
       "  <th>Sample:</th>                <td>1</td>        <th>  HQIC               </th> <td>466011.482</td> \n",
       "</tr>\n",
       "<tr>\n",
       "  <th></th>                       <td> </td>        <th>                     </th>      <td> </td>     \n",
       "</tr>\n",
       "</table>\n",
       "<table class=\"simpletable\">\n",
       "<tr>\n",
       "          <td></td>             <th>coef</th>     <th>std err</th>      <th>z</th>      <th>P>|z|</th>  <th>[0.025</th>    <th>0.975]</th>  \n",
       "</tr>\n",
       "<tr>\n",
       "  <th>const</th>             <td>  121.0863</td> <td>    0.373</td> <td>  324.911</td> <td> 0.000</td> <td>  120.356</td> <td>  121.817</td>\n",
       "</tr>\n",
       "<tr>\n",
       "  <th>ar.L1.D.UnitsSold</th> <td>   -0.2975</td> <td>    0.382</td> <td>   -0.778</td> <td> 0.437</td> <td>   -1.047</td> <td>    0.452</td>\n",
       "</tr>\n",
       "<tr>\n",
       "  <th>ma.L1.D.UnitsSold</th> <td>    0.2916</td> <td>    0.383</td> <td>    0.761</td> <td> 0.447</td> <td>   -0.459</td> <td>    1.042</td>\n",
       "</tr>\n",
       "</table>\n",
       "<table class=\"simpletable\">\n",
       "<caption>Roots</caption>\n",
       "<tr>\n",
       "    <td></td>   <th>            Real</th>  <th>         Imaginary</th> <th>         Modulus</th>  <th>        Frequency</th>\n",
       "</tr>\n",
       "<tr>\n",
       "  <th>AR.1</th> <td>          -3.3618</td> <td>          +0.0000j</td> <td>           3.3618</td> <td>           0.5000</td>\n",
       "</tr>\n",
       "<tr>\n",
       "  <th>MA.1</th> <td>          -3.4298</td> <td>          +0.0000j</td> <td>           3.4298</td> <td>           0.5000</td>\n",
       "</tr>\n",
       "</table>"
      ],
      "text/plain": [
       "<class 'statsmodels.iolib.summary.Summary'>\n",
       "\"\"\"\n",
       "                             ARIMA Model Results                              \n",
       "==============================================================================\n",
       "Dep. Variable:            D.UnitsSold   No. Observations:                40578\n",
       "Model:                 ARIMA(1, 1, 1)   Log Likelihood             -232996.293\n",
       "Method:                       css-mle   S.D. of innovations             75.414\n",
       "Date:                Thu, 21 Jul 2022   AIC                         466000.587\n",
       "Time:                        15:20:43   BIC                         466035.031\n",
       "Sample:                             1   HQIC                        466011.482\n",
       "                                                                              \n",
       "=====================================================================================\n",
       "                        coef    std err          z      P>|z|      [0.025      0.975]\n",
       "-------------------------------------------------------------------------------------\n",
       "const               121.0863      0.373    324.911      0.000     120.356     121.817\n",
       "ar.L1.D.UnitsSold    -0.2975      0.382     -0.778      0.437      -1.047       0.452\n",
       "ma.L1.D.UnitsSold     0.2916      0.383      0.761      0.447      -0.459       1.042\n",
       "                                    Roots                                    \n",
       "=============================================================================\n",
       "                  Real          Imaginary           Modulus         Frequency\n",
       "-----------------------------------------------------------------------------\n",
       "AR.1           -3.3618           +0.0000j            3.3618            0.5000\n",
       "MA.1           -3.4298           +0.0000j            3.4298            0.5000\n",
       "-----------------------------------------------------------------------------\n",
       "\"\"\""
      ]
     },
     "execution_count": 51,
     "metadata": {},
     "output_type": "execute_result"
    }
   ],
   "source": [
    "#check the summary of the model\n",
    "\n",
    "history.summary()"
   ]
  },
  {
   "cell_type": "code",
   "execution_count": 66,
   "metadata": {},
   "outputs": [],
   "source": [
    "model_fit=model.fit()"
   ]
  },
  {
   "cell_type": "code",
   "execution_count": 67,
   "metadata": {},
   "outputs": [
    {
     "data": {
      "text/plain": [
       "True"
      ]
     },
     "execution_count": 67,
     "metadata": {},
     "output_type": "execute_result"
    }
   ],
   "source": [
    "df2.reset_index(level=0, inplace=True)\n",
    "## had duplicate index values - this cleaned it up and reset those values \n",
    "\n",
    "df2.index.is_unique\n",
    "# this now says \"true\" we are unique"
   ]
  },
  {
   "cell_type": "code",
   "execution_count": 69,
   "metadata": {},
   "outputs": [
    {
     "data": {
      "text/plain": [
       "array([False, False, False, ..., False, False, False])"
      ]
     },
     "execution_count": 69,
     "metadata": {},
     "output_type": "execute_result"
    }
   ],
   "source": [
    "#let's test and see which index are dupes\n",
    "df2.index.duplicated()"
   ]
  },
  {
   "cell_type": "code",
   "execution_count": 84,
   "metadata": {},
   "outputs": [],
   "source": [
    "df2.loc[~df2.index.duplicated(), :] \n",
    "#clearing out the duplicate items \n",
    "df2.allows_duplicate_labels = False"
   ]
  },
  {
   "cell_type": "code",
   "execution_count": 99,
   "metadata": {},
   "outputs": [
    {
     "ename": "ValueError",
     "evalue": "cannot reindex from a duplicate axis",
     "output_type": "error",
     "traceback": [
      "\u001b[1;31m---------------------------------------------------------------------------\u001b[0m",
      "\u001b[1;31mValueError\u001b[0m                                Traceback (most recent call last)",
      "\u001b[1;32m<ipython-input-99-b3eec289e591>\u001b[0m in \u001b[0;36m<module>\u001b[1;34m\u001b[0m\n\u001b[0;32m      3\u001b[0m \u001b[1;31m# above line works but nothing below it does...\u001b[0m\u001b[1;33m\u001b[0m\u001b[1;33m\u001b[0m\u001b[1;33m\u001b[0m\u001b[0m\n\u001b[0;32m      4\u001b[0m \u001b[1;33m\u001b[0m\u001b[0m\n\u001b[1;32m----> 5\u001b[1;33m \u001b[0mdf\u001b[0m\u001b[1;33m[\u001b[0m\u001b[1;34m'forecasty'\u001b[0m\u001b[1;33m]\u001b[0m\u001b[1;33m=\u001b[0m\u001b[0mmodel_fit\u001b[0m\u001b[1;33m.\u001b[0m\u001b[0mpredict\u001b[0m\u001b[1;33m(\u001b[0m\u001b[0mstart\u001b[0m\u001b[1;33m=\u001b[0m\u001b[1;36m90\u001b[0m\u001b[1;33m,\u001b[0m\u001b[0mend\u001b[0m\u001b[1;33m=\u001b[0m\u001b[1;36m103\u001b[0m\u001b[1;33m,\u001b[0m\u001b[0mdynamic\u001b[0m\u001b[1;33m=\u001b[0m\u001b[1;32mTrue\u001b[0m\u001b[1;33m)\u001b[0m\u001b[1;33m\u001b[0m\u001b[1;33m\u001b[0m\u001b[0m\n\u001b[0m\u001b[0;32m      6\u001b[0m \u001b[0mdf\u001b[0m\u001b[1;33m[\u001b[0m\u001b[1;33m[\u001b[0m\u001b[1;34m'UnitsSold1'\u001b[0m\u001b[1;33m,\u001b[0m\u001b[1;34m'forecasty'\u001b[0m\u001b[1;33m]\u001b[0m\u001b[1;33m]\u001b[0m\u001b[1;33m.\u001b[0m\u001b[0mplot\u001b[0m\u001b[1;33m(\u001b[0m\u001b[0mfigsize\u001b[0m\u001b[1;33m=\u001b[0m\u001b[1;33m(\u001b[0m\u001b[1;36m12\u001b[0m\u001b[1;33m,\u001b[0m\u001b[1;36m8\u001b[0m\u001b[1;33m)\u001b[0m\u001b[1;33m)\u001b[0m \u001b[1;31m### THIS DOESN\"T WORK!!!!!!!!!\u001b[0m\u001b[1;33m\u001b[0m\u001b[1;33m\u001b[0m\u001b[0m\n",
      "\u001b[1;32m~\\anaconda3\\lib\\site-packages\\pandas\\core\\frame.py\u001b[0m in \u001b[0;36m__setitem__\u001b[1;34m(self, key, value)\u001b[0m\n\u001b[0;32m   3038\u001b[0m         \u001b[1;32melse\u001b[0m\u001b[1;33m:\u001b[0m\u001b[1;33m\u001b[0m\u001b[1;33m\u001b[0m\u001b[0m\n\u001b[0;32m   3039\u001b[0m             \u001b[1;31m# set column\u001b[0m\u001b[1;33m\u001b[0m\u001b[1;33m\u001b[0m\u001b[1;33m\u001b[0m\u001b[0m\n\u001b[1;32m-> 3040\u001b[1;33m             \u001b[0mself\u001b[0m\u001b[1;33m.\u001b[0m\u001b[0m_set_item\u001b[0m\u001b[1;33m(\u001b[0m\u001b[0mkey\u001b[0m\u001b[1;33m,\u001b[0m \u001b[0mvalue\u001b[0m\u001b[1;33m)\u001b[0m\u001b[1;33m\u001b[0m\u001b[1;33m\u001b[0m\u001b[0m\n\u001b[0m\u001b[0;32m   3041\u001b[0m \u001b[1;33m\u001b[0m\u001b[0m\n\u001b[0;32m   3042\u001b[0m     \u001b[1;32mdef\u001b[0m \u001b[0m_setitem_slice\u001b[0m\u001b[1;33m(\u001b[0m\u001b[0mself\u001b[0m\u001b[1;33m,\u001b[0m \u001b[0mkey\u001b[0m\u001b[1;33m:\u001b[0m \u001b[0mslice\u001b[0m\u001b[1;33m,\u001b[0m \u001b[0mvalue\u001b[0m\u001b[1;33m)\u001b[0m\u001b[1;33m:\u001b[0m\u001b[1;33m\u001b[0m\u001b[1;33m\u001b[0m\u001b[0m\n",
      "\u001b[1;32m~\\anaconda3\\lib\\site-packages\\pandas\\core\\frame.py\u001b[0m in \u001b[0;36m_set_item\u001b[1;34m(self, key, value)\u001b[0m\n\u001b[0;32m   3114\u001b[0m         \"\"\"\n\u001b[0;32m   3115\u001b[0m         \u001b[0mself\u001b[0m\u001b[1;33m.\u001b[0m\u001b[0m_ensure_valid_index\u001b[0m\u001b[1;33m(\u001b[0m\u001b[0mvalue\u001b[0m\u001b[1;33m)\u001b[0m\u001b[1;33m\u001b[0m\u001b[1;33m\u001b[0m\u001b[0m\n\u001b[1;32m-> 3116\u001b[1;33m         \u001b[0mvalue\u001b[0m \u001b[1;33m=\u001b[0m \u001b[0mself\u001b[0m\u001b[1;33m.\u001b[0m\u001b[0m_sanitize_column\u001b[0m\u001b[1;33m(\u001b[0m\u001b[0mkey\u001b[0m\u001b[1;33m,\u001b[0m \u001b[0mvalue\u001b[0m\u001b[1;33m)\u001b[0m\u001b[1;33m\u001b[0m\u001b[1;33m\u001b[0m\u001b[0m\n\u001b[0m\u001b[0;32m   3117\u001b[0m         \u001b[0mNDFrame\u001b[0m\u001b[1;33m.\u001b[0m\u001b[0m_set_item\u001b[0m\u001b[1;33m(\u001b[0m\u001b[0mself\u001b[0m\u001b[1;33m,\u001b[0m \u001b[0mkey\u001b[0m\u001b[1;33m,\u001b[0m \u001b[0mvalue\u001b[0m\u001b[1;33m)\u001b[0m\u001b[1;33m\u001b[0m\u001b[1;33m\u001b[0m\u001b[0m\n\u001b[0;32m   3118\u001b[0m \u001b[1;33m\u001b[0m\u001b[0m\n",
      "\u001b[1;32m~\\anaconda3\\lib\\site-packages\\pandas\\core\\frame.py\u001b[0m in \u001b[0;36m_sanitize_column\u001b[1;34m(self, key, value, broadcast)\u001b[0m\n\u001b[0;32m   3739\u001b[0m \u001b[1;33m\u001b[0m\u001b[0m\n\u001b[0;32m   3740\u001b[0m         \u001b[1;32mif\u001b[0m \u001b[0misinstance\u001b[0m\u001b[1;33m(\u001b[0m\u001b[0mvalue\u001b[0m\u001b[1;33m,\u001b[0m \u001b[0mSeries\u001b[0m\u001b[1;33m)\u001b[0m\u001b[1;33m:\u001b[0m\u001b[1;33m\u001b[0m\u001b[1;33m\u001b[0m\u001b[0m\n\u001b[1;32m-> 3741\u001b[1;33m             \u001b[0mvalue\u001b[0m \u001b[1;33m=\u001b[0m \u001b[0mreindexer\u001b[0m\u001b[1;33m(\u001b[0m\u001b[0mvalue\u001b[0m\u001b[1;33m)\u001b[0m\u001b[1;33m\u001b[0m\u001b[1;33m\u001b[0m\u001b[0m\n\u001b[0m\u001b[0;32m   3742\u001b[0m \u001b[1;33m\u001b[0m\u001b[0m\n\u001b[0;32m   3743\u001b[0m         \u001b[1;32melif\u001b[0m \u001b[0misinstance\u001b[0m\u001b[1;33m(\u001b[0m\u001b[0mvalue\u001b[0m\u001b[1;33m,\u001b[0m \u001b[0mDataFrame\u001b[0m\u001b[1;33m)\u001b[0m\u001b[1;33m:\u001b[0m\u001b[1;33m\u001b[0m\u001b[1;33m\u001b[0m\u001b[0m\n",
      "\u001b[1;32m~\\anaconda3\\lib\\site-packages\\pandas\\core\\frame.py\u001b[0m in \u001b[0;36mreindexer\u001b[1;34m(value)\u001b[0m\n\u001b[0;32m   3730\u001b[0m                     \u001b[1;32mif\u001b[0m \u001b[1;32mnot\u001b[0m \u001b[0mvalue\u001b[0m\u001b[1;33m.\u001b[0m\u001b[0mindex\u001b[0m\u001b[1;33m.\u001b[0m\u001b[0mis_unique\u001b[0m\u001b[1;33m:\u001b[0m\u001b[1;33m\u001b[0m\u001b[1;33m\u001b[0m\u001b[0m\n\u001b[0;32m   3731\u001b[0m                         \u001b[1;31m# duplicate axis\u001b[0m\u001b[1;33m\u001b[0m\u001b[1;33m\u001b[0m\u001b[1;33m\u001b[0m\u001b[0m\n\u001b[1;32m-> 3732\u001b[1;33m                         \u001b[1;32mraise\u001b[0m \u001b[0merr\u001b[0m\u001b[1;33m\u001b[0m\u001b[1;33m\u001b[0m\u001b[0m\n\u001b[0m\u001b[0;32m   3733\u001b[0m \u001b[1;33m\u001b[0m\u001b[0m\n\u001b[0;32m   3734\u001b[0m                     \u001b[1;31m# other\u001b[0m\u001b[1;33m\u001b[0m\u001b[1;33m\u001b[0m\u001b[1;33m\u001b[0m\u001b[0m\n",
      "\u001b[1;32m~\\anaconda3\\lib\\site-packages\\pandas\\core\\frame.py\u001b[0m in \u001b[0;36mreindexer\u001b[1;34m(value)\u001b[0m\n\u001b[0;32m   3725\u001b[0m                 \u001b[1;31m# GH 4107\u001b[0m\u001b[1;33m\u001b[0m\u001b[1;33m\u001b[0m\u001b[1;33m\u001b[0m\u001b[0m\n\u001b[0;32m   3726\u001b[0m                 \u001b[1;32mtry\u001b[0m\u001b[1;33m:\u001b[0m\u001b[1;33m\u001b[0m\u001b[1;33m\u001b[0m\u001b[0m\n\u001b[1;32m-> 3727\u001b[1;33m                     \u001b[0mvalue\u001b[0m \u001b[1;33m=\u001b[0m \u001b[0mvalue\u001b[0m\u001b[1;33m.\u001b[0m\u001b[0mreindex\u001b[0m\u001b[1;33m(\u001b[0m\u001b[0mself\u001b[0m\u001b[1;33m.\u001b[0m\u001b[0mindex\u001b[0m\u001b[1;33m)\u001b[0m\u001b[1;33m.\u001b[0m\u001b[0m_values\u001b[0m\u001b[1;33m\u001b[0m\u001b[1;33m\u001b[0m\u001b[0m\n\u001b[0m\u001b[0;32m   3728\u001b[0m                 \u001b[1;32mexcept\u001b[0m \u001b[0mValueError\u001b[0m \u001b[1;32mas\u001b[0m \u001b[0merr\u001b[0m\u001b[1;33m:\u001b[0m\u001b[1;33m\u001b[0m\u001b[1;33m\u001b[0m\u001b[0m\n\u001b[0;32m   3729\u001b[0m                     \u001b[1;31m# raised in MultiIndex.from_tuples, see test_insert_error_msmgs\u001b[0m\u001b[1;33m\u001b[0m\u001b[1;33m\u001b[0m\u001b[1;33m\u001b[0m\u001b[0m\n",
      "\u001b[1;32m~\\anaconda3\\lib\\site-packages\\pandas\\core\\series.py\u001b[0m in \u001b[0;36mreindex\u001b[1;34m(self, index, **kwargs)\u001b[0m\n\u001b[0;32m   4397\u001b[0m     )\n\u001b[0;32m   4398\u001b[0m     \u001b[1;32mdef\u001b[0m \u001b[0mreindex\u001b[0m\u001b[1;33m(\u001b[0m\u001b[0mself\u001b[0m\u001b[1;33m,\u001b[0m \u001b[0mindex\u001b[0m\u001b[1;33m=\u001b[0m\u001b[1;32mNone\u001b[0m\u001b[1;33m,\u001b[0m \u001b[1;33m**\u001b[0m\u001b[0mkwargs\u001b[0m\u001b[1;33m)\u001b[0m\u001b[1;33m:\u001b[0m\u001b[1;33m\u001b[0m\u001b[1;33m\u001b[0m\u001b[0m\n\u001b[1;32m-> 4399\u001b[1;33m         \u001b[1;32mreturn\u001b[0m \u001b[0msuper\u001b[0m\u001b[1;33m(\u001b[0m\u001b[1;33m)\u001b[0m\u001b[1;33m.\u001b[0m\u001b[0mreindex\u001b[0m\u001b[1;33m(\u001b[0m\u001b[0mindex\u001b[0m\u001b[1;33m=\u001b[0m\u001b[0mindex\u001b[0m\u001b[1;33m,\u001b[0m \u001b[1;33m**\u001b[0m\u001b[0mkwargs\u001b[0m\u001b[1;33m)\u001b[0m\u001b[1;33m\u001b[0m\u001b[1;33m\u001b[0m\u001b[0m\n\u001b[0m\u001b[0;32m   4400\u001b[0m \u001b[1;33m\u001b[0m\u001b[0m\n\u001b[0;32m   4401\u001b[0m     def drop(\n",
      "\u001b[1;32m~\\anaconda3\\lib\\site-packages\\pandas\\core\\generic.py\u001b[0m in \u001b[0;36mreindex\u001b[1;34m(self, *args, **kwargs)\u001b[0m\n\u001b[0;32m   4459\u001b[0m \u001b[1;33m\u001b[0m\u001b[0m\n\u001b[0;32m   4460\u001b[0m         \u001b[1;31m# perform the reindex on the axes\u001b[0m\u001b[1;33m\u001b[0m\u001b[1;33m\u001b[0m\u001b[1;33m\u001b[0m\u001b[0m\n\u001b[1;32m-> 4461\u001b[1;33m         return self._reindex_axes(\n\u001b[0m\u001b[0;32m   4462\u001b[0m             \u001b[0maxes\u001b[0m\u001b[1;33m,\u001b[0m \u001b[0mlevel\u001b[0m\u001b[1;33m,\u001b[0m \u001b[0mlimit\u001b[0m\u001b[1;33m,\u001b[0m \u001b[0mtolerance\u001b[0m\u001b[1;33m,\u001b[0m \u001b[0mmethod\u001b[0m\u001b[1;33m,\u001b[0m \u001b[0mfill_value\u001b[0m\u001b[1;33m,\u001b[0m \u001b[0mcopy\u001b[0m\u001b[1;33m\u001b[0m\u001b[1;33m\u001b[0m\u001b[0m\n\u001b[0;32m   4463\u001b[0m         ).__finalize__(self, method=\"reindex\")\n",
      "\u001b[1;32m~\\anaconda3\\lib\\site-packages\\pandas\\core\\generic.py\u001b[0m in \u001b[0;36m_reindex_axes\u001b[1;34m(self, axes, level, limit, tolerance, method, fill_value, copy)\u001b[0m\n\u001b[0;32m   4479\u001b[0m \u001b[1;33m\u001b[0m\u001b[0m\n\u001b[0;32m   4480\u001b[0m             \u001b[0maxis\u001b[0m \u001b[1;33m=\u001b[0m \u001b[0mself\u001b[0m\u001b[1;33m.\u001b[0m\u001b[0m_get_axis_number\u001b[0m\u001b[1;33m(\u001b[0m\u001b[0ma\u001b[0m\u001b[1;33m)\u001b[0m\u001b[1;33m\u001b[0m\u001b[1;33m\u001b[0m\u001b[0m\n\u001b[1;32m-> 4481\u001b[1;33m             obj = obj._reindex_with_indexers(\n\u001b[0m\u001b[0;32m   4482\u001b[0m                 \u001b[1;33m{\u001b[0m\u001b[0maxis\u001b[0m\u001b[1;33m:\u001b[0m \u001b[1;33m[\u001b[0m\u001b[0mnew_index\u001b[0m\u001b[1;33m,\u001b[0m \u001b[0mindexer\u001b[0m\u001b[1;33m]\u001b[0m\u001b[1;33m}\u001b[0m\u001b[1;33m,\u001b[0m\u001b[1;33m\u001b[0m\u001b[1;33m\u001b[0m\u001b[0m\n\u001b[0;32m   4483\u001b[0m                 \u001b[0mfill_value\u001b[0m\u001b[1;33m=\u001b[0m\u001b[0mfill_value\u001b[0m\u001b[1;33m,\u001b[0m\u001b[1;33m\u001b[0m\u001b[1;33m\u001b[0m\u001b[0m\n",
      "\u001b[1;32m~\\anaconda3\\lib\\site-packages\\pandas\\core\\generic.py\u001b[0m in \u001b[0;36m_reindex_with_indexers\u001b[1;34m(self, reindexers, fill_value, copy, allow_dups)\u001b[0m\n\u001b[0;32m   4522\u001b[0m \u001b[1;33m\u001b[0m\u001b[0m\n\u001b[0;32m   4523\u001b[0m             \u001b[1;31m# TODO: speed up on homogeneous DataFrame objects\u001b[0m\u001b[1;33m\u001b[0m\u001b[1;33m\u001b[0m\u001b[1;33m\u001b[0m\u001b[0m\n\u001b[1;32m-> 4524\u001b[1;33m             new_data = new_data.reindex_indexer(\n\u001b[0m\u001b[0;32m   4525\u001b[0m                 \u001b[0mindex\u001b[0m\u001b[1;33m,\u001b[0m\u001b[1;33m\u001b[0m\u001b[1;33m\u001b[0m\u001b[0m\n\u001b[0;32m   4526\u001b[0m                 \u001b[0mindexer\u001b[0m\u001b[1;33m,\u001b[0m\u001b[1;33m\u001b[0m\u001b[1;33m\u001b[0m\u001b[0m\n",
      "\u001b[1;32m~\\anaconda3\\lib\\site-packages\\pandas\\core\\internals\\managers.py\u001b[0m in \u001b[0;36mreindex_indexer\u001b[1;34m(self, new_axis, indexer, axis, fill_value, allow_dups, copy, consolidate)\u001b[0m\n\u001b[0;32m   1274\u001b[0m         \u001b[1;31m# some axes don't allow reindexing with dups\u001b[0m\u001b[1;33m\u001b[0m\u001b[1;33m\u001b[0m\u001b[1;33m\u001b[0m\u001b[0m\n\u001b[0;32m   1275\u001b[0m         \u001b[1;32mif\u001b[0m \u001b[1;32mnot\u001b[0m \u001b[0mallow_dups\u001b[0m\u001b[1;33m:\u001b[0m\u001b[1;33m\u001b[0m\u001b[1;33m\u001b[0m\u001b[0m\n\u001b[1;32m-> 1276\u001b[1;33m             \u001b[0mself\u001b[0m\u001b[1;33m.\u001b[0m\u001b[0maxes\u001b[0m\u001b[1;33m[\u001b[0m\u001b[0maxis\u001b[0m\u001b[1;33m]\u001b[0m\u001b[1;33m.\u001b[0m\u001b[0m_can_reindex\u001b[0m\u001b[1;33m(\u001b[0m\u001b[0mindexer\u001b[0m\u001b[1;33m)\u001b[0m\u001b[1;33m\u001b[0m\u001b[1;33m\u001b[0m\u001b[0m\n\u001b[0m\u001b[0;32m   1277\u001b[0m \u001b[1;33m\u001b[0m\u001b[0m\n\u001b[0;32m   1278\u001b[0m         \u001b[1;32mif\u001b[0m \u001b[0maxis\u001b[0m \u001b[1;33m>=\u001b[0m \u001b[0mself\u001b[0m\u001b[1;33m.\u001b[0m\u001b[0mndim\u001b[0m\u001b[1;33m:\u001b[0m\u001b[1;33m\u001b[0m\u001b[1;33m\u001b[0m\u001b[0m\n",
      "\u001b[1;32m~\\anaconda3\\lib\\site-packages\\pandas\\core\\indexes\\base.py\u001b[0m in \u001b[0;36m_can_reindex\u001b[1;34m(self, indexer)\u001b[0m\n\u001b[0;32m   3287\u001b[0m         \u001b[1;31m# trying to reindex on an axis with duplicates\u001b[0m\u001b[1;33m\u001b[0m\u001b[1;33m\u001b[0m\u001b[1;33m\u001b[0m\u001b[0m\n\u001b[0;32m   3288\u001b[0m         \u001b[1;32mif\u001b[0m \u001b[1;32mnot\u001b[0m \u001b[0mself\u001b[0m\u001b[1;33m.\u001b[0m\u001b[0mis_unique\u001b[0m \u001b[1;32mand\u001b[0m \u001b[0mlen\u001b[0m\u001b[1;33m(\u001b[0m\u001b[0mindexer\u001b[0m\u001b[1;33m)\u001b[0m\u001b[1;33m:\u001b[0m\u001b[1;33m\u001b[0m\u001b[1;33m\u001b[0m\u001b[0m\n\u001b[1;32m-> 3289\u001b[1;33m             \u001b[1;32mraise\u001b[0m \u001b[0mValueError\u001b[0m\u001b[1;33m(\u001b[0m\u001b[1;34m\"cannot reindex from a duplicate axis\"\u001b[0m\u001b[1;33m)\u001b[0m\u001b[1;33m\u001b[0m\u001b[1;33m\u001b[0m\u001b[0m\n\u001b[0m\u001b[0;32m   3290\u001b[0m \u001b[1;33m\u001b[0m\u001b[0m\n\u001b[0;32m   3291\u001b[0m     \u001b[1;32mdef\u001b[0m \u001b[0mreindex\u001b[0m\u001b[1;33m(\u001b[0m\u001b[0mself\u001b[0m\u001b[1;33m,\u001b[0m \u001b[0mtarget\u001b[0m\u001b[1;33m,\u001b[0m \u001b[0mmethod\u001b[0m\u001b[1;33m=\u001b[0m\u001b[1;32mNone\u001b[0m\u001b[1;33m,\u001b[0m \u001b[0mlevel\u001b[0m\u001b[1;33m=\u001b[0m\u001b[1;32mNone\u001b[0m\u001b[1;33m,\u001b[0m \u001b[0mlimit\u001b[0m\u001b[1;33m=\u001b[0m\u001b[1;32mNone\u001b[0m\u001b[1;33m,\u001b[0m \u001b[0mtolerance\u001b[0m\u001b[1;33m=\u001b[0m\u001b[1;32mNone\u001b[0m\u001b[1;33m)\u001b[0m\u001b[1;33m:\u001b[0m\u001b[1;33m\u001b[0m\u001b[1;33m\u001b[0m\u001b[0m\n",
      "\u001b[1;31mValueError\u001b[0m: cannot reindex from a duplicate axis"
     ]
    }
   ],
   "source": [
    "#forecast = model_fit.predict(start=90,end=103,dynamic=True)\n",
    "\n",
    "# above line works but nothing below it does... \n",
    "\n",
    "df['forecast']=model_fit.predict(start=90,end=103,dynamic=True)\n",
    "df[['UnitsSold','forecast']].plot(figsize=(12,8)) ### THIS DOESN\"T WORK!!!!!!!!!"
   ]
  },
  {
   "cell_type": "code",
   "execution_count": 96,
   "metadata": {},
   "outputs": [],
   "source": [
    "## duplicate line...   model_fit=model.fit()\n",
    "model=ARIMA(df2['rolling_mean_diff'].dropna(),order=(1,1,1))\n"
   ]
  },
  {
   "cell_type": "code",
   "execution_count": 98,
   "metadata": {},
   "outputs": [
    {
     "ename": "ValueError",
     "evalue": "cannot reindex from a duplicate axis",
     "output_type": "error",
     "traceback": [
      "\u001b[1;31m---------------------------------------------------------------------------\u001b[0m",
      "\u001b[1;31mValueError\u001b[0m                                Traceback (most recent call last)",
      "\u001b[1;32m<ipython-input-98-f4de56079297>\u001b[0m in \u001b[0;36m<module>\u001b[1;34m\u001b[0m\n\u001b[0;32m      1\u001b[0m \u001b[1;31m#Testing the model\u001b[0m\u001b[1;33m\u001b[0m\u001b[1;33m\u001b[0m\u001b[1;33m\u001b[0m\u001b[0m\n\u001b[0;32m      2\u001b[0m \u001b[1;33m\u001b[0m\u001b[0m\n\u001b[1;32m----> 3\u001b[1;33m \u001b[0mdf2\u001b[0m\u001b[1;33m[\u001b[0m\u001b[1;34m'forecast1'\u001b[0m\u001b[1;33m]\u001b[0m\u001b[1;33m=\u001b[0m\u001b[0mmodel_fit\u001b[0m\u001b[1;33m.\u001b[0m\u001b[0mpredict\u001b[0m\u001b[1;33m(\u001b[0m\u001b[0mstart\u001b[0m\u001b[1;33m=\u001b[0m\u001b[1;36m90\u001b[0m\u001b[1;33m,\u001b[0m\u001b[0mend\u001b[0m\u001b[1;33m=\u001b[0m\u001b[1;36m103\u001b[0m\u001b[1;33m,\u001b[0m\u001b[0mdynamic\u001b[0m\u001b[1;33m=\u001b[0m\u001b[1;32mTrue\u001b[0m\u001b[1;33m)\u001b[0m\u001b[1;33m\u001b[0m\u001b[1;33m\u001b[0m\u001b[0m\n\u001b[0m\u001b[0;32m      4\u001b[0m \u001b[0mdf2\u001b[0m\u001b[1;33m[\u001b[0m\u001b[1;33m[\u001b[0m\u001b[1;34m'rolling_mean_diff'\u001b[0m\u001b[1;33m,\u001b[0m\u001b[1;34m'forecast1'\u001b[0m\u001b[1;33m]\u001b[0m\u001b[1;33m]\u001b[0m\u001b[1;33m.\u001b[0m\u001b[0mplot\u001b[0m\u001b[1;33m(\u001b[0m\u001b[0mfigsize\u001b[0m\u001b[1;33m=\u001b[0m\u001b[1;33m(\u001b[0m\u001b[1;36m12\u001b[0m\u001b[1;33m,\u001b[0m\u001b[1;36m8\u001b[0m\u001b[1;33m)\u001b[0m\u001b[1;33m)\u001b[0m\u001b[1;33m\u001b[0m\u001b[1;33m\u001b[0m\u001b[0m\n",
      "\u001b[1;32m~\\anaconda3\\lib\\site-packages\\pandas\\core\\frame.py\u001b[0m in \u001b[0;36m__setitem__\u001b[1;34m(self, key, value)\u001b[0m\n\u001b[0;32m   3038\u001b[0m         \u001b[1;32melse\u001b[0m\u001b[1;33m:\u001b[0m\u001b[1;33m\u001b[0m\u001b[1;33m\u001b[0m\u001b[0m\n\u001b[0;32m   3039\u001b[0m             \u001b[1;31m# set column\u001b[0m\u001b[1;33m\u001b[0m\u001b[1;33m\u001b[0m\u001b[1;33m\u001b[0m\u001b[0m\n\u001b[1;32m-> 3040\u001b[1;33m             \u001b[0mself\u001b[0m\u001b[1;33m.\u001b[0m\u001b[0m_set_item\u001b[0m\u001b[1;33m(\u001b[0m\u001b[0mkey\u001b[0m\u001b[1;33m,\u001b[0m \u001b[0mvalue\u001b[0m\u001b[1;33m)\u001b[0m\u001b[1;33m\u001b[0m\u001b[1;33m\u001b[0m\u001b[0m\n\u001b[0m\u001b[0;32m   3041\u001b[0m \u001b[1;33m\u001b[0m\u001b[0m\n\u001b[0;32m   3042\u001b[0m     \u001b[1;32mdef\u001b[0m \u001b[0m_setitem_slice\u001b[0m\u001b[1;33m(\u001b[0m\u001b[0mself\u001b[0m\u001b[1;33m,\u001b[0m \u001b[0mkey\u001b[0m\u001b[1;33m:\u001b[0m \u001b[0mslice\u001b[0m\u001b[1;33m,\u001b[0m \u001b[0mvalue\u001b[0m\u001b[1;33m)\u001b[0m\u001b[1;33m:\u001b[0m\u001b[1;33m\u001b[0m\u001b[1;33m\u001b[0m\u001b[0m\n",
      "\u001b[1;32m~\\anaconda3\\lib\\site-packages\\pandas\\core\\frame.py\u001b[0m in \u001b[0;36m_set_item\u001b[1;34m(self, key, value)\u001b[0m\n\u001b[0;32m   3114\u001b[0m         \"\"\"\n\u001b[0;32m   3115\u001b[0m         \u001b[0mself\u001b[0m\u001b[1;33m.\u001b[0m\u001b[0m_ensure_valid_index\u001b[0m\u001b[1;33m(\u001b[0m\u001b[0mvalue\u001b[0m\u001b[1;33m)\u001b[0m\u001b[1;33m\u001b[0m\u001b[1;33m\u001b[0m\u001b[0m\n\u001b[1;32m-> 3116\u001b[1;33m         \u001b[0mvalue\u001b[0m \u001b[1;33m=\u001b[0m \u001b[0mself\u001b[0m\u001b[1;33m.\u001b[0m\u001b[0m_sanitize_column\u001b[0m\u001b[1;33m(\u001b[0m\u001b[0mkey\u001b[0m\u001b[1;33m,\u001b[0m \u001b[0mvalue\u001b[0m\u001b[1;33m)\u001b[0m\u001b[1;33m\u001b[0m\u001b[1;33m\u001b[0m\u001b[0m\n\u001b[0m\u001b[0;32m   3117\u001b[0m         \u001b[0mNDFrame\u001b[0m\u001b[1;33m.\u001b[0m\u001b[0m_set_item\u001b[0m\u001b[1;33m(\u001b[0m\u001b[0mself\u001b[0m\u001b[1;33m,\u001b[0m \u001b[0mkey\u001b[0m\u001b[1;33m,\u001b[0m \u001b[0mvalue\u001b[0m\u001b[1;33m)\u001b[0m\u001b[1;33m\u001b[0m\u001b[1;33m\u001b[0m\u001b[0m\n\u001b[0;32m   3118\u001b[0m \u001b[1;33m\u001b[0m\u001b[0m\n",
      "\u001b[1;32m~\\anaconda3\\lib\\site-packages\\pandas\\core\\frame.py\u001b[0m in \u001b[0;36m_sanitize_column\u001b[1;34m(self, key, value, broadcast)\u001b[0m\n\u001b[0;32m   3739\u001b[0m \u001b[1;33m\u001b[0m\u001b[0m\n\u001b[0;32m   3740\u001b[0m         \u001b[1;32mif\u001b[0m \u001b[0misinstance\u001b[0m\u001b[1;33m(\u001b[0m\u001b[0mvalue\u001b[0m\u001b[1;33m,\u001b[0m \u001b[0mSeries\u001b[0m\u001b[1;33m)\u001b[0m\u001b[1;33m:\u001b[0m\u001b[1;33m\u001b[0m\u001b[1;33m\u001b[0m\u001b[0m\n\u001b[1;32m-> 3741\u001b[1;33m             \u001b[0mvalue\u001b[0m \u001b[1;33m=\u001b[0m \u001b[0mreindexer\u001b[0m\u001b[1;33m(\u001b[0m\u001b[0mvalue\u001b[0m\u001b[1;33m)\u001b[0m\u001b[1;33m\u001b[0m\u001b[1;33m\u001b[0m\u001b[0m\n\u001b[0m\u001b[0;32m   3742\u001b[0m \u001b[1;33m\u001b[0m\u001b[0m\n\u001b[0;32m   3743\u001b[0m         \u001b[1;32melif\u001b[0m \u001b[0misinstance\u001b[0m\u001b[1;33m(\u001b[0m\u001b[0mvalue\u001b[0m\u001b[1;33m,\u001b[0m \u001b[0mDataFrame\u001b[0m\u001b[1;33m)\u001b[0m\u001b[1;33m:\u001b[0m\u001b[1;33m\u001b[0m\u001b[1;33m\u001b[0m\u001b[0m\n",
      "\u001b[1;32m~\\anaconda3\\lib\\site-packages\\pandas\\core\\frame.py\u001b[0m in \u001b[0;36mreindexer\u001b[1;34m(value)\u001b[0m\n\u001b[0;32m   3730\u001b[0m                     \u001b[1;32mif\u001b[0m \u001b[1;32mnot\u001b[0m \u001b[0mvalue\u001b[0m\u001b[1;33m.\u001b[0m\u001b[0mindex\u001b[0m\u001b[1;33m.\u001b[0m\u001b[0mis_unique\u001b[0m\u001b[1;33m:\u001b[0m\u001b[1;33m\u001b[0m\u001b[1;33m\u001b[0m\u001b[0m\n\u001b[0;32m   3731\u001b[0m                         \u001b[1;31m# duplicate axis\u001b[0m\u001b[1;33m\u001b[0m\u001b[1;33m\u001b[0m\u001b[1;33m\u001b[0m\u001b[0m\n\u001b[1;32m-> 3732\u001b[1;33m                         \u001b[1;32mraise\u001b[0m \u001b[0merr\u001b[0m\u001b[1;33m\u001b[0m\u001b[1;33m\u001b[0m\u001b[0m\n\u001b[0m\u001b[0;32m   3733\u001b[0m \u001b[1;33m\u001b[0m\u001b[0m\n\u001b[0;32m   3734\u001b[0m                     \u001b[1;31m# other\u001b[0m\u001b[1;33m\u001b[0m\u001b[1;33m\u001b[0m\u001b[1;33m\u001b[0m\u001b[0m\n",
      "\u001b[1;32m~\\anaconda3\\lib\\site-packages\\pandas\\core\\frame.py\u001b[0m in \u001b[0;36mreindexer\u001b[1;34m(value)\u001b[0m\n\u001b[0;32m   3725\u001b[0m                 \u001b[1;31m# GH 4107\u001b[0m\u001b[1;33m\u001b[0m\u001b[1;33m\u001b[0m\u001b[1;33m\u001b[0m\u001b[0m\n\u001b[0;32m   3726\u001b[0m                 \u001b[1;32mtry\u001b[0m\u001b[1;33m:\u001b[0m\u001b[1;33m\u001b[0m\u001b[1;33m\u001b[0m\u001b[0m\n\u001b[1;32m-> 3727\u001b[1;33m                     \u001b[0mvalue\u001b[0m \u001b[1;33m=\u001b[0m \u001b[0mvalue\u001b[0m\u001b[1;33m.\u001b[0m\u001b[0mreindex\u001b[0m\u001b[1;33m(\u001b[0m\u001b[0mself\u001b[0m\u001b[1;33m.\u001b[0m\u001b[0mindex\u001b[0m\u001b[1;33m)\u001b[0m\u001b[1;33m.\u001b[0m\u001b[0m_values\u001b[0m\u001b[1;33m\u001b[0m\u001b[1;33m\u001b[0m\u001b[0m\n\u001b[0m\u001b[0;32m   3728\u001b[0m                 \u001b[1;32mexcept\u001b[0m \u001b[0mValueError\u001b[0m \u001b[1;32mas\u001b[0m \u001b[0merr\u001b[0m\u001b[1;33m:\u001b[0m\u001b[1;33m\u001b[0m\u001b[1;33m\u001b[0m\u001b[0m\n\u001b[0;32m   3729\u001b[0m                     \u001b[1;31m# raised in MultiIndex.from_tuples, see test_insert_error_msmgs\u001b[0m\u001b[1;33m\u001b[0m\u001b[1;33m\u001b[0m\u001b[1;33m\u001b[0m\u001b[0m\n",
      "\u001b[1;32m~\\anaconda3\\lib\\site-packages\\pandas\\core\\series.py\u001b[0m in \u001b[0;36mreindex\u001b[1;34m(self, index, **kwargs)\u001b[0m\n\u001b[0;32m   4397\u001b[0m     )\n\u001b[0;32m   4398\u001b[0m     \u001b[1;32mdef\u001b[0m \u001b[0mreindex\u001b[0m\u001b[1;33m(\u001b[0m\u001b[0mself\u001b[0m\u001b[1;33m,\u001b[0m \u001b[0mindex\u001b[0m\u001b[1;33m=\u001b[0m\u001b[1;32mNone\u001b[0m\u001b[1;33m,\u001b[0m \u001b[1;33m**\u001b[0m\u001b[0mkwargs\u001b[0m\u001b[1;33m)\u001b[0m\u001b[1;33m:\u001b[0m\u001b[1;33m\u001b[0m\u001b[1;33m\u001b[0m\u001b[0m\n\u001b[1;32m-> 4399\u001b[1;33m         \u001b[1;32mreturn\u001b[0m \u001b[0msuper\u001b[0m\u001b[1;33m(\u001b[0m\u001b[1;33m)\u001b[0m\u001b[1;33m.\u001b[0m\u001b[0mreindex\u001b[0m\u001b[1;33m(\u001b[0m\u001b[0mindex\u001b[0m\u001b[1;33m=\u001b[0m\u001b[0mindex\u001b[0m\u001b[1;33m,\u001b[0m \u001b[1;33m**\u001b[0m\u001b[0mkwargs\u001b[0m\u001b[1;33m)\u001b[0m\u001b[1;33m\u001b[0m\u001b[1;33m\u001b[0m\u001b[0m\n\u001b[0m\u001b[0;32m   4400\u001b[0m \u001b[1;33m\u001b[0m\u001b[0m\n\u001b[0;32m   4401\u001b[0m     def drop(\n",
      "\u001b[1;32m~\\anaconda3\\lib\\site-packages\\pandas\\core\\generic.py\u001b[0m in \u001b[0;36mreindex\u001b[1;34m(self, *args, **kwargs)\u001b[0m\n\u001b[0;32m   4459\u001b[0m \u001b[1;33m\u001b[0m\u001b[0m\n\u001b[0;32m   4460\u001b[0m         \u001b[1;31m# perform the reindex on the axes\u001b[0m\u001b[1;33m\u001b[0m\u001b[1;33m\u001b[0m\u001b[1;33m\u001b[0m\u001b[0m\n\u001b[1;32m-> 4461\u001b[1;33m         return self._reindex_axes(\n\u001b[0m\u001b[0;32m   4462\u001b[0m             \u001b[0maxes\u001b[0m\u001b[1;33m,\u001b[0m \u001b[0mlevel\u001b[0m\u001b[1;33m,\u001b[0m \u001b[0mlimit\u001b[0m\u001b[1;33m,\u001b[0m \u001b[0mtolerance\u001b[0m\u001b[1;33m,\u001b[0m \u001b[0mmethod\u001b[0m\u001b[1;33m,\u001b[0m \u001b[0mfill_value\u001b[0m\u001b[1;33m,\u001b[0m \u001b[0mcopy\u001b[0m\u001b[1;33m\u001b[0m\u001b[1;33m\u001b[0m\u001b[0m\n\u001b[0;32m   4463\u001b[0m         ).__finalize__(self, method=\"reindex\")\n",
      "\u001b[1;32m~\\anaconda3\\lib\\site-packages\\pandas\\core\\generic.py\u001b[0m in \u001b[0;36m_reindex_axes\u001b[1;34m(self, axes, level, limit, tolerance, method, fill_value, copy)\u001b[0m\n\u001b[0;32m   4479\u001b[0m \u001b[1;33m\u001b[0m\u001b[0m\n\u001b[0;32m   4480\u001b[0m             \u001b[0maxis\u001b[0m \u001b[1;33m=\u001b[0m \u001b[0mself\u001b[0m\u001b[1;33m.\u001b[0m\u001b[0m_get_axis_number\u001b[0m\u001b[1;33m(\u001b[0m\u001b[0ma\u001b[0m\u001b[1;33m)\u001b[0m\u001b[1;33m\u001b[0m\u001b[1;33m\u001b[0m\u001b[0m\n\u001b[1;32m-> 4481\u001b[1;33m             obj = obj._reindex_with_indexers(\n\u001b[0m\u001b[0;32m   4482\u001b[0m                 \u001b[1;33m{\u001b[0m\u001b[0maxis\u001b[0m\u001b[1;33m:\u001b[0m \u001b[1;33m[\u001b[0m\u001b[0mnew_index\u001b[0m\u001b[1;33m,\u001b[0m \u001b[0mindexer\u001b[0m\u001b[1;33m]\u001b[0m\u001b[1;33m}\u001b[0m\u001b[1;33m,\u001b[0m\u001b[1;33m\u001b[0m\u001b[1;33m\u001b[0m\u001b[0m\n\u001b[0;32m   4483\u001b[0m                 \u001b[0mfill_value\u001b[0m\u001b[1;33m=\u001b[0m\u001b[0mfill_value\u001b[0m\u001b[1;33m,\u001b[0m\u001b[1;33m\u001b[0m\u001b[1;33m\u001b[0m\u001b[0m\n",
      "\u001b[1;32m~\\anaconda3\\lib\\site-packages\\pandas\\core\\generic.py\u001b[0m in \u001b[0;36m_reindex_with_indexers\u001b[1;34m(self, reindexers, fill_value, copy, allow_dups)\u001b[0m\n\u001b[0;32m   4522\u001b[0m \u001b[1;33m\u001b[0m\u001b[0m\n\u001b[0;32m   4523\u001b[0m             \u001b[1;31m# TODO: speed up on homogeneous DataFrame objects\u001b[0m\u001b[1;33m\u001b[0m\u001b[1;33m\u001b[0m\u001b[1;33m\u001b[0m\u001b[0m\n\u001b[1;32m-> 4524\u001b[1;33m             new_data = new_data.reindex_indexer(\n\u001b[0m\u001b[0;32m   4525\u001b[0m                 \u001b[0mindex\u001b[0m\u001b[1;33m,\u001b[0m\u001b[1;33m\u001b[0m\u001b[1;33m\u001b[0m\u001b[0m\n\u001b[0;32m   4526\u001b[0m                 \u001b[0mindexer\u001b[0m\u001b[1;33m,\u001b[0m\u001b[1;33m\u001b[0m\u001b[1;33m\u001b[0m\u001b[0m\n",
      "\u001b[1;32m~\\anaconda3\\lib\\site-packages\\pandas\\core\\internals\\managers.py\u001b[0m in \u001b[0;36mreindex_indexer\u001b[1;34m(self, new_axis, indexer, axis, fill_value, allow_dups, copy, consolidate)\u001b[0m\n\u001b[0;32m   1274\u001b[0m         \u001b[1;31m# some axes don't allow reindexing with dups\u001b[0m\u001b[1;33m\u001b[0m\u001b[1;33m\u001b[0m\u001b[1;33m\u001b[0m\u001b[0m\n\u001b[0;32m   1275\u001b[0m         \u001b[1;32mif\u001b[0m \u001b[1;32mnot\u001b[0m \u001b[0mallow_dups\u001b[0m\u001b[1;33m:\u001b[0m\u001b[1;33m\u001b[0m\u001b[1;33m\u001b[0m\u001b[0m\n\u001b[1;32m-> 1276\u001b[1;33m             \u001b[0mself\u001b[0m\u001b[1;33m.\u001b[0m\u001b[0maxes\u001b[0m\u001b[1;33m[\u001b[0m\u001b[0maxis\u001b[0m\u001b[1;33m]\u001b[0m\u001b[1;33m.\u001b[0m\u001b[0m_can_reindex\u001b[0m\u001b[1;33m(\u001b[0m\u001b[0mindexer\u001b[0m\u001b[1;33m)\u001b[0m\u001b[1;33m\u001b[0m\u001b[1;33m\u001b[0m\u001b[0m\n\u001b[0m\u001b[0;32m   1277\u001b[0m \u001b[1;33m\u001b[0m\u001b[0m\n\u001b[0;32m   1278\u001b[0m         \u001b[1;32mif\u001b[0m \u001b[0maxis\u001b[0m \u001b[1;33m>=\u001b[0m \u001b[0mself\u001b[0m\u001b[1;33m.\u001b[0m\u001b[0mndim\u001b[0m\u001b[1;33m:\u001b[0m\u001b[1;33m\u001b[0m\u001b[1;33m\u001b[0m\u001b[0m\n",
      "\u001b[1;32m~\\anaconda3\\lib\\site-packages\\pandas\\core\\indexes\\base.py\u001b[0m in \u001b[0;36m_can_reindex\u001b[1;34m(self, indexer)\u001b[0m\n\u001b[0;32m   3287\u001b[0m         \u001b[1;31m# trying to reindex on an axis with duplicates\u001b[0m\u001b[1;33m\u001b[0m\u001b[1;33m\u001b[0m\u001b[1;33m\u001b[0m\u001b[0m\n\u001b[0;32m   3288\u001b[0m         \u001b[1;32mif\u001b[0m \u001b[1;32mnot\u001b[0m \u001b[0mself\u001b[0m\u001b[1;33m.\u001b[0m\u001b[0mis_unique\u001b[0m \u001b[1;32mand\u001b[0m \u001b[0mlen\u001b[0m\u001b[1;33m(\u001b[0m\u001b[0mindexer\u001b[0m\u001b[1;33m)\u001b[0m\u001b[1;33m:\u001b[0m\u001b[1;33m\u001b[0m\u001b[1;33m\u001b[0m\u001b[0m\n\u001b[1;32m-> 3289\u001b[1;33m             \u001b[1;32mraise\u001b[0m \u001b[0mValueError\u001b[0m\u001b[1;33m(\u001b[0m\u001b[1;34m\"cannot reindex from a duplicate axis\"\u001b[0m\u001b[1;33m)\u001b[0m\u001b[1;33m\u001b[0m\u001b[1;33m\u001b[0m\u001b[0m\n\u001b[0m\u001b[0;32m   3290\u001b[0m \u001b[1;33m\u001b[0m\u001b[0m\n\u001b[0;32m   3291\u001b[0m     \u001b[1;32mdef\u001b[0m \u001b[0mreindex\u001b[0m\u001b[1;33m(\u001b[0m\u001b[0mself\u001b[0m\u001b[1;33m,\u001b[0m \u001b[0mtarget\u001b[0m\u001b[1;33m,\u001b[0m \u001b[0mmethod\u001b[0m\u001b[1;33m=\u001b[0m\u001b[1;32mNone\u001b[0m\u001b[1;33m,\u001b[0m \u001b[0mlevel\u001b[0m\u001b[1;33m=\u001b[0m\u001b[1;32mNone\u001b[0m\u001b[1;33m,\u001b[0m \u001b[0mlimit\u001b[0m\u001b[1;33m=\u001b[0m\u001b[1;32mNone\u001b[0m\u001b[1;33m,\u001b[0m \u001b[0mtolerance\u001b[0m\u001b[1;33m=\u001b[0m\u001b[1;32mNone\u001b[0m\u001b[1;33m)\u001b[0m\u001b[1;33m:\u001b[0m\u001b[1;33m\u001b[0m\u001b[1;33m\u001b[0m\u001b[0m\n",
      "\u001b[1;31mValueError\u001b[0m: cannot reindex from a duplicate axis"
     ]
    }
   ],
   "source": [
    "#Testing the model \n",
    "\n",
    "df2['forecast1']=model_fit.predict(start=90,end=103,dynamic=True)\n",
    "df2[['rolling_mean_diff','forecast1']].plot(figsize=(12,8))"
   ]
  },
  {
   "cell_type": "code",
   "execution_count": null,
   "metadata": {},
   "outputs": [],
   "source": []
  }
 ],
 "metadata": {
  "kernelspec": {
   "display_name": "Python 3",
   "language": "python",
   "name": "python3"
  },
  "language_info": {
   "codemirror_mode": {
    "name": "ipython",
    "version": 3
   },
   "file_extension": ".py",
   "mimetype": "text/x-python",
   "name": "python",
   "nbconvert_exporter": "python",
   "pygments_lexer": "ipython3",
   "version": "3.8.5"
  }
 },
 "nbformat": 4,
 "nbformat_minor": 4
}
