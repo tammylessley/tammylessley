{
 "cells": [
  {
   "cell_type": "code",
   "execution_count": 8,
   "metadata": {},
   "outputs": [
    {
     "name": "stdout",
     "output_type": "stream",
     "text": [
      "Requirement already satisfied: autoviz in c:\\users\\tamle\\anaconda3\\lib\\site-packages (0.0.83)\n",
      "Requirement already satisfied: scikit-learn in c:\\users\\tamle\\anaconda3\\lib\\site-packages (from autoviz) (0.23.2)\n",
      "Requirement already satisfied: statsmodels in c:\\users\\tamle\\anaconda3\\lib\\site-packages (from autoviz) (0.12.0)\n",
      "Requirement already satisfied: xgboost in c:\\users\\tamle\\anaconda3\\lib\\site-packages (from autoviz) (1.4.2)\n",
      "Requirement already satisfied: seaborn in c:\\users\\tamle\\anaconda3\\lib\\site-packages (from autoviz) (0.11.0)\n",
      "Requirement already satisfied: ipython in c:\\users\\tamle\\anaconda3\\lib\\site-packages (from autoviz) (7.19.0)\n",
      "Requirement already satisfied: matplotlib in c:\\users\\tamle\\anaconda3\\lib\\site-packages (from autoviz) (3.3.2)\n",
      "Requirement already satisfied: pandas in c:\\users\\tamle\\anaconda3\\lib\\site-packages (from autoviz) (1.1.3)\n",
      "Requirement already satisfied: jupyter in c:\\users\\tamle\\anaconda3\\lib\\site-packages (from autoviz) (1.0.0)\n",
      "Requirement already satisfied: threadpoolctl>=2.0.0 in c:\\users\\tamle\\anaconda3\\lib\\site-packages (from scikit-learn->autoviz) (2.1.0)\n",
      "Requirement already satisfied: numpy>=1.13.3 in c:\\users\\tamle\\anaconda3\\lib\\site-packages (from scikit-learn->autoviz) (1.19.2)\n",
      "Requirement already satisfied: scipy>=0.19.1 in c:\\users\\tamle\\anaconda3\\lib\\site-packages (from scikit-learn->autoviz) (1.5.2)\n",
      "Requirement already satisfied: joblib>=0.11 in c:\\users\\tamle\\anaconda3\\lib\\site-packages (from scikit-learn->autoviz) (0.17.0)\n",
      "Requirement already satisfied: patsy>=0.5 in c:\\users\\tamle\\anaconda3\\lib\\site-packages (from statsmodels->autoviz) (0.5.1)\n",
      "Requirement already satisfied: pickleshare in c:\\users\\tamle\\anaconda3\\lib\\site-packages (from ipython->autoviz) (0.7.5)\n",
      "Requirement already satisfied: prompt-toolkit!=3.0.0,!=3.0.1,<3.1.0,>=2.0.0 in c:\\users\\tamle\\anaconda3\\lib\\site-packages (from ipython->autoviz) (3.0.8)\n",
      "Requirement already satisfied: backcall in c:\\users\\tamle\\anaconda3\\lib\\site-packages (from ipython->autoviz) (0.2.0)\n",
      "Requirement already satisfied: traitlets>=4.2 in c:\\users\\tamle\\anaconda3\\lib\\site-packages (from ipython->autoviz) (5.0.5)\n",
      "Requirement already satisfied: decorator in c:\\users\\tamle\\anaconda3\\lib\\site-packages (from ipython->autoviz) (4.4.2)\n",
      "Requirement already satisfied: setuptools>=18.5 in c:\\users\\tamle\\anaconda3\\lib\\site-packages (from ipython->autoviz) (50.3.1.post20201107)\n",
      "Requirement already satisfied: jedi>=0.10 in c:\\users\\tamle\\anaconda3\\lib\\site-packages (from ipython->autoviz) (0.17.1)\n",
      "Requirement already satisfied: colorama; sys_platform == \"win32\" in c:\\users\\tamle\\anaconda3\\lib\\site-packages (from ipython->autoviz) (0.4.4)\n",
      "Requirement already satisfied: pygments in c:\\users\\tamle\\anaconda3\\lib\\site-packages (from ipython->autoviz) (2.7.2)\n",
      "Requirement already satisfied: certifi>=2020.06.20 in c:\\users\\tamle\\anaconda3\\lib\\site-packages (from matplotlib->autoviz) (2020.6.20)\n",
      "Requirement already satisfied: python-dateutil>=2.1 in c:\\users\\tamle\\anaconda3\\lib\\site-packages (from matplotlib->autoviz) (2.8.1)\n",
      "Requirement already satisfied: kiwisolver>=1.0.1 in c:\\users\\tamle\\anaconda3\\lib\\site-packages (from matplotlib->autoviz) (1.3.0)\n",
      "Requirement already satisfied: pyparsing!=2.0.4,!=2.1.2,!=2.1.6,>=2.0.3 in c:\\users\\tamle\\anaconda3\\lib\\site-packages (from matplotlib->autoviz) (2.4.7)\n",
      "Requirement already satisfied: cycler>=0.10 in c:\\users\\tamle\\anaconda3\\lib\\site-packages (from matplotlib->autoviz) (0.10.0)\n",
      "Requirement already satisfied: pillow>=6.2.0 in c:\\users\\tamle\\anaconda3\\lib\\site-packages (from matplotlib->autoviz) (8.0.1)\n",
      "Requirement already satisfied: pytz>=2017.2 in c:\\users\\tamle\\anaconda3\\lib\\site-packages (from pandas->autoviz) (2020.1)\n",
      "Requirement already satisfied: qtconsole in c:\\users\\tamle\\anaconda3\\lib\\site-packages (from jupyter->autoviz) (4.7.7)\n",
      "Requirement already satisfied: notebook in c:\\users\\tamle\\anaconda3\\lib\\site-packages (from jupyter->autoviz) (6.1.4)\n",
      "Requirement already satisfied: ipywidgets in c:\\users\\tamle\\anaconda3\\lib\\site-packages (from jupyter->autoviz) (7.5.1)\n",
      "Requirement already satisfied: nbconvert in c:\\users\\tamle\\anaconda3\\lib\\site-packages (from jupyter->autoviz) (6.0.7)\n",
      "Requirement already satisfied: jupyter-console in c:\\users\\tamle\\anaconda3\\lib\\site-packages (from jupyter->autoviz) (6.2.0)\n",
      "Requirement already satisfied: ipykernel in c:\\users\\tamle\\anaconda3\\lib\\site-packages (from jupyter->autoviz) (5.3.4)\n",
      "Requirement already satisfied: six in c:\\users\\tamle\\anaconda3\\lib\\site-packages (from patsy>=0.5->statsmodels->autoviz) (1.15.0)\n",
      "Requirement already satisfied: wcwidth in c:\\users\\tamle\\anaconda3\\lib\\site-packages (from prompt-toolkit!=3.0.0,!=3.0.1,<3.1.0,>=2.0.0->ipython->autoviz) (0.2.5)\n",
      "Requirement already satisfied: ipython-genutils in c:\\users\\tamle\\anaconda3\\lib\\site-packages (from traitlets>=4.2->ipython->autoviz) (0.2.0)\n",
      "Requirement already satisfied: parso<0.8.0,>=0.7.0 in c:\\users\\tamle\\anaconda3\\lib\\site-packages (from jedi>=0.10->ipython->autoviz) (0.7.0)\n",
      "Requirement already satisfied: jupyter-client>=4.1 in c:\\users\\tamle\\anaconda3\\lib\\site-packages (from qtconsole->jupyter->autoviz) (6.1.7)\n",
      "Requirement already satisfied: qtpy in c:\\users\\tamle\\anaconda3\\lib\\site-packages (from qtconsole->jupyter->autoviz) (1.9.0)\n",
      "Requirement already satisfied: pyzmq>=17.1 in c:\\users\\tamle\\anaconda3\\lib\\site-packages (from qtconsole->jupyter->autoviz) (19.0.2)\n",
      "Requirement already satisfied: jupyter-core in c:\\users\\tamle\\anaconda3\\lib\\site-packages (from qtconsole->jupyter->autoviz) (4.6.3)\n",
      "Requirement already satisfied: tornado>=5.0 in c:\\users\\tamle\\anaconda3\\lib\\site-packages (from notebook->jupyter->autoviz) (6.0.4)\n",
      "Requirement already satisfied: jinja2 in c:\\users\\tamle\\anaconda3\\lib\\site-packages (from notebook->jupyter->autoviz) (2.11.2)\n",
      "Requirement already satisfied: Send2Trash in c:\\users\\tamle\\anaconda3\\lib\\site-packages (from notebook->jupyter->autoviz) (1.5.0)\n",
      "Requirement already satisfied: prometheus-client in c:\\users\\tamle\\anaconda3\\lib\\site-packages (from notebook->jupyter->autoviz) (0.8.0)\n",
      "Requirement already satisfied: argon2-cffi in c:\\users\\tamle\\anaconda3\\lib\\site-packages (from notebook->jupyter->autoviz) (20.1.0)\n",
      "Requirement already satisfied: terminado>=0.8.3 in c:\\users\\tamle\\anaconda3\\lib\\site-packages (from notebook->jupyter->autoviz) (0.9.1)\n",
      "Requirement already satisfied: nbformat in c:\\users\\tamle\\anaconda3\\lib\\site-packages (from notebook->jupyter->autoviz) (5.0.8)\n",
      "Requirement already satisfied: widgetsnbextension~=3.5.0 in c:\\users\\tamle\\anaconda3\\lib\\site-packages (from ipywidgets->jupyter->autoviz) (3.5.1)\n",
      "Requirement already satisfied: mistune<2,>=0.8.1 in c:\\users\\tamle\\anaconda3\\lib\\site-packages (from nbconvert->jupyter->autoviz) (0.8.4)\n",
      "Requirement already satisfied: bleach in c:\\users\\tamle\\anaconda3\\lib\\site-packages (from nbconvert->jupyter->autoviz) (3.2.1)\n",
      "Requirement already satisfied: nbclient<0.6.0,>=0.5.0 in c:\\users\\tamle\\anaconda3\\lib\\site-packages (from nbconvert->jupyter->autoviz) (0.5.1)\n",
      "Requirement already satisfied: entrypoints>=0.2.2 in c:\\users\\tamle\\anaconda3\\lib\\site-packages (from nbconvert->jupyter->autoviz) (0.3)\n",
      "Requirement already satisfied: testpath in c:\\users\\tamle\\anaconda3\\lib\\site-packages (from nbconvert->jupyter->autoviz) (0.4.4)\n",
      "Requirement already satisfied: defusedxml in c:\\users\\tamle\\anaconda3\\lib\\site-packages (from nbconvert->jupyter->autoviz) (0.6.0)\n",
      "Requirement already satisfied: jupyterlab-pygments in c:\\users\\tamle\\anaconda3\\lib\\site-packages (from nbconvert->jupyter->autoviz) (0.1.2)\n",
      "Requirement already satisfied: pandocfilters>=1.4.1 in c:\\users\\tamle\\anaconda3\\lib\\site-packages (from nbconvert->jupyter->autoviz) (1.4.3)\n",
      "Requirement already satisfied: pywin32>=1.0; sys_platform == \"win32\" in c:\\users\\tamle\\anaconda3\\lib\\site-packages (from jupyter-core->qtconsole->jupyter->autoviz) (227)\n",
      "Requirement already satisfied: MarkupSafe>=0.23 in c:\\users\\tamle\\anaconda3\\lib\\site-packages (from jinja2->notebook->jupyter->autoviz) (1.1.1)\n",
      "Requirement already satisfied: cffi>=1.0.0 in c:\\users\\tamle\\anaconda3\\lib\\site-packages (from argon2-cffi->notebook->jupyter->autoviz) (1.14.3)\n",
      "Requirement already satisfied: pywinpty>=0.5 in c:\\users\\tamle\\anaconda3\\lib\\site-packages (from terminado>=0.8.3->notebook->jupyter->autoviz) (0.5.7)\n",
      "Requirement already satisfied: jsonschema!=2.5.0,>=2.4 in c:\\users\\tamle\\anaconda3\\lib\\site-packages (from nbformat->notebook->jupyter->autoviz) (3.2.0)\n",
      "Requirement already satisfied: packaging in c:\\users\\tamle\\anaconda3\\lib\\site-packages (from bleach->nbconvert->jupyter->autoviz) (20.4)\n",
      "Requirement already satisfied: webencodings in c:\\users\\tamle\\anaconda3\\lib\\site-packages (from bleach->nbconvert->jupyter->autoviz) (0.5.1)\n",
      "Requirement already satisfied: nest-asyncio in c:\\users\\tamle\\anaconda3\\lib\\site-packages (from nbclient<0.6.0,>=0.5.0->nbconvert->jupyter->autoviz) (1.4.2)\n",
      "Requirement already satisfied: async-generator in c:\\users\\tamle\\anaconda3\\lib\\site-packages (from nbclient<0.6.0,>=0.5.0->nbconvert->jupyter->autoviz) (1.10)\n",
      "Requirement already satisfied: pycparser in c:\\users\\tamle\\anaconda3\\lib\\site-packages (from cffi>=1.0.0->argon2-cffi->notebook->jupyter->autoviz) (2.20)\n",
      "Requirement already satisfied: attrs>=17.4.0 in c:\\users\\tamle\\anaconda3\\lib\\site-packages (from jsonschema!=2.5.0,>=2.4->nbformat->notebook->jupyter->autoviz) (20.3.0)\n",
      "Requirement already satisfied: pyrsistent>=0.14.0 in c:\\users\\tamle\\anaconda3\\lib\\site-packages (from jsonschema!=2.5.0,>=2.4->nbformat->notebook->jupyter->autoviz) (0.17.3)\n"
     ]
    },
    {
     "name": "stdout",
     "output_type": "stream",
     "text": [
      "Requirement already satisfied: wordcloud in c:\\users\\tamle\\anaconda3\\lib\\site-packages (1.8.1)\n",
      "Requirement already satisfied: pillow in c:\\users\\tamle\\anaconda3\\lib\\site-packages (from wordcloud) (8.0.1)\n",
      "Requirement already satisfied: numpy>=1.6.1 in c:\\users\\tamle\\anaconda3\\lib\\site-packages (from wordcloud) (1.19.2)\n",
      "Requirement already satisfied: matplotlib in c:\\users\\tamle\\anaconda3\\lib\\site-packages (from wordcloud) (3.3.2)\n",
      "Requirement already satisfied: certifi>=2020.06.20 in c:\\users\\tamle\\anaconda3\\lib\\site-packages (from matplotlib->wordcloud) (2020.6.20)\n",
      "Requirement already satisfied: pyparsing!=2.0.4,!=2.1.2,!=2.1.6,>=2.0.3 in c:\\users\\tamle\\anaconda3\\lib\\site-packages (from matplotlib->wordcloud) (2.4.7)\n",
      "Requirement already satisfied: cycler>=0.10 in c:\\users\\tamle\\anaconda3\\lib\\site-packages (from matplotlib->wordcloud) (0.10.0)\n",
      "Requirement already satisfied: python-dateutil>=2.1 in c:\\users\\tamle\\anaconda3\\lib\\site-packages (from matplotlib->wordcloud) (2.8.1)\n",
      "Requirement already satisfied: kiwisolver>=1.0.1 in c:\\users\\tamle\\anaconda3\\lib\\site-packages (from matplotlib->wordcloud) (1.3.0)\n",
      "Requirement already satisfied: six in c:\\users\\tamle\\anaconda3\\lib\\site-packages (from cycler>=0.10->matplotlib->wordcloud) (1.15.0)\n"
     ]
    }
   ],
   "source": [
    "import pandas as pd\n",
    "import numpy as np\n",
    "!pip install autoviz\n",
    "!pip install wordcloud\n",
    "from autoviz.AutoViz_Class import AutoViz_Class\n",
    "# this will enable the visualization of the data \n",
    "import matplotlib.pyplot as plt\n",
    "%matplotlib inline\n",
    "#not sure I want the below items here.....\n",
    "from sklearn import preprocessing\n",
    "# these will allow for the KNN process later\n",
    "from sklearn.model_selection import cross_val_score\n",
    "from sklearn.neighbors import KNeighborsClassifier"
   ]
  },
  {
   "cell_type": "code",
   "execution_count": 36,
   "metadata": {},
   "outputs": [
    {
     "name": "stdout",
     "output_type": "stream",
     "text": [
      "       PackageSizeName MaterialId Brand ProdCategory SoldToCorporate Entity  \\\n",
      "0                 P_15      M_127   B_3          C_2                  SC_34   \n",
      "1                 P_15      M_127   B_3          C_2                  SC_34   \n",
      "2                 P_15      M_127   B_3          C_2                  SC_34   \n",
      "3                 P_15      M_127   B_3          C_2                  SC_34   \n",
      "4                 P_15      M_127   B_3          C_2                  SC_34   \n",
      "...                ...        ...   ...          ...                    ...   \n",
      "157646            P_15      M_129   B_3          C_2                 SC_861   \n",
      "157647            P_15      M_129   B_3          C_2                 SC_861   \n",
      "157648            P_15      M_129   B_3          C_2                 SC_861   \n",
      "157649            P_15      M_129   B_3          C_2                 SC_861   \n",
      "157650            P_15      M_129   B_3          C_2                 SC_861   \n",
      "\n",
      "       SoldToBanner SoldToRegional SoldToPartner       Date  UnitsSold  \n",
      "0             SB_35          SR_45        SP_104   1/5/2019        NaN  \n",
      "1             SB_35          SR_45        SP_104  1/12/2019        NaN  \n",
      "2             SB_35          SR_45        SP_104  1/19/2019        NaN  \n",
      "3             SB_35          SR_45        SP_104  1/26/2019        NaN  \n",
      "4             SB_35          SR_45        SP_104   2/2/2019        NaN  \n",
      "...             ...            ...           ...        ...        ...  \n",
      "157646       SB_871         SR_916       SP_2900  5/28/2022     5445.0  \n",
      "157647       SB_871         SR_916       SP_2900   6/4/2022     5967.0  \n",
      "157648       SB_871         SR_916       SP_2900  6/11/2022     6023.0  \n",
      "157649       SB_871         SR_916       SP_2900  6/18/2022     3738.0  \n",
      "157650       SB_871         SR_916       SP_2900  6/25/2022     5175.0  \n",
      "\n",
      "[157651 rows x 10 columns]\n"
     ]
    },
    {
     "data": {
      "text/html": [
       "<div>\n",
       "<style scoped>\n",
       "    .dataframe tbody tr th:only-of-type {\n",
       "        vertical-align: middle;\n",
       "    }\n",
       "\n",
       "    .dataframe tbody tr th {\n",
       "        vertical-align: top;\n",
       "    }\n",
       "\n",
       "    .dataframe thead th {\n",
       "        text-align: right;\n",
       "    }\n",
       "</style>\n",
       "<table border=\"1\" class=\"dataframe\">\n",
       "  <thead>\n",
       "    <tr style=\"text-align: right;\">\n",
       "      <th></th>\n",
       "      <th>PackageSizeName</th>\n",
       "      <th>MaterialId</th>\n",
       "      <th>Brand</th>\n",
       "      <th>ProdCategory</th>\n",
       "      <th>SoldToCorporate Entity</th>\n",
       "      <th>SoldToBanner</th>\n",
       "      <th>SoldToRegional</th>\n",
       "      <th>SoldToPartner</th>\n",
       "      <th>Date</th>\n",
       "      <th>UnitsSold</th>\n",
       "    </tr>\n",
       "  </thead>\n",
       "  <tbody>\n",
       "    <tr>\n",
       "      <th>0</th>\n",
       "      <td>P_15</td>\n",
       "      <td>M_127</td>\n",
       "      <td>B_3</td>\n",
       "      <td>C_2</td>\n",
       "      <td>SC_34</td>\n",
       "      <td>SB_35</td>\n",
       "      <td>SR_45</td>\n",
       "      <td>SP_104</td>\n",
       "      <td>1/5/2019</td>\n",
       "      <td>NaN</td>\n",
       "    </tr>\n",
       "    <tr>\n",
       "      <th>1</th>\n",
       "      <td>P_15</td>\n",
       "      <td>M_127</td>\n",
       "      <td>B_3</td>\n",
       "      <td>C_2</td>\n",
       "      <td>SC_34</td>\n",
       "      <td>SB_35</td>\n",
       "      <td>SR_45</td>\n",
       "      <td>SP_104</td>\n",
       "      <td>1/12/2019</td>\n",
       "      <td>NaN</td>\n",
       "    </tr>\n",
       "    <tr>\n",
       "      <th>2</th>\n",
       "      <td>P_15</td>\n",
       "      <td>M_127</td>\n",
       "      <td>B_3</td>\n",
       "      <td>C_2</td>\n",
       "      <td>SC_34</td>\n",
       "      <td>SB_35</td>\n",
       "      <td>SR_45</td>\n",
       "      <td>SP_104</td>\n",
       "      <td>1/19/2019</td>\n",
       "      <td>NaN</td>\n",
       "    </tr>\n",
       "    <tr>\n",
       "      <th>3</th>\n",
       "      <td>P_15</td>\n",
       "      <td>M_127</td>\n",
       "      <td>B_3</td>\n",
       "      <td>C_2</td>\n",
       "      <td>SC_34</td>\n",
       "      <td>SB_35</td>\n",
       "      <td>SR_45</td>\n",
       "      <td>SP_104</td>\n",
       "      <td>1/26/2019</td>\n",
       "      <td>NaN</td>\n",
       "    </tr>\n",
       "    <tr>\n",
       "      <th>4</th>\n",
       "      <td>P_15</td>\n",
       "      <td>M_127</td>\n",
       "      <td>B_3</td>\n",
       "      <td>C_2</td>\n",
       "      <td>SC_34</td>\n",
       "      <td>SB_35</td>\n",
       "      <td>SR_45</td>\n",
       "      <td>SP_104</td>\n",
       "      <td>2/2/2019</td>\n",
       "      <td>NaN</td>\n",
       "    </tr>\n",
       "  </tbody>\n",
       "</table>\n",
       "</div>"
      ],
      "text/plain": [
       "  PackageSizeName MaterialId Brand ProdCategory SoldToCorporate Entity  \\\n",
       "0            P_15      M_127   B_3          C_2                  SC_34   \n",
       "1            P_15      M_127   B_3          C_2                  SC_34   \n",
       "2            P_15      M_127   B_3          C_2                  SC_34   \n",
       "3            P_15      M_127   B_3          C_2                  SC_34   \n",
       "4            P_15      M_127   B_3          C_2                  SC_34   \n",
       "\n",
       "  SoldToBanner SoldToRegional SoldToPartner       Date  UnitsSold  \n",
       "0        SB_35          SR_45        SP_104   1/5/2019        NaN  \n",
       "1        SB_35          SR_45        SP_104  1/12/2019        NaN  \n",
       "2        SB_35          SR_45        SP_104  1/19/2019        NaN  \n",
       "3        SB_35          SR_45        SP_104  1/26/2019        NaN  \n",
       "4        SB_35          SR_45        SP_104   2/2/2019        NaN  "
      ]
     },
     "execution_count": 36,
     "metadata": {},
     "output_type": "execute_result"
    }
   ],
   "source": [
    "# dataset is 10 fields (157,651 rows) regarding the marketing scheme for a bank based off of customer's:\n",
    "# X/independent/predictive variables:\n",
    "#   PackageSizeName - string\n",
    "#   MaterialId - string\n",
    "#   Brand - string\n",
    "#   ProdCategory - string\n",
    "#   SoldToCorporateEntity  - string\n",
    "#   SoldToBanner - string\n",
    "#   SoldToRegional - string\n",
    "#   SoldToPartner - string\n",
    "#   Date - date\n",
    " \n",
    "\n",
    "# Y/dependent/target variable:\n",
    "# UnitsSold - decimal\n",
    "\n",
    "df = pd.read_csv(r'C:\\Users\\tamle\\Desktop\\Utica\\5 - MSDS Summer 2022\\DSC-680 Capstone\\datasets for python\\BaseData.csv')\n",
    "print(df)\n",
    "df.head()"
   ]
  },
  {
   "cell_type": "code",
   "execution_count": 37,
   "metadata": {},
   "outputs": [
    {
     "name": "stdout",
     "output_type": "stream",
     "text": [
      "Shape of your Data Set loaded: (157651, 10)\n",
      "############## C L A S S I F Y I N G  V A R I A B L E S  ####################\n",
      "Classifying variables in data set...\n",
      "    Number of Numeric Columns =  1\n",
      "    Number of Integer-Categorical Columns =  0\n",
      "    Number of String-Categorical Columns =  1\n",
      "    Number of Factor-Categorical Columns =  0\n",
      "    Number of String-Boolean Columns =  0\n",
      "    Number of Numeric-Boolean Columns =  0\n",
      "    Number of Discrete String Columns =  5\n",
      "    Number of NLP String Columns =  0\n",
      "    Number of Date Time Columns =  0\n",
      "    Number of ID Columns =  0\n",
      "    Number of Columns to Delete =  3\n",
      "    10 Predictors classified...\n",
      "        This does not include the Target column(s)\n",
      "        8 variables removed since they were ID or low-information variables\n",
      "Since Number of Rows in data 157651 exceeds maximum, randomly sampling 157651 rows for EDA...\n"
     ]
    },
    {
     "data": {
      "image/png": "[encoded data removed]",
      "text/plain": [
       "<Figure size 1080x360 with 3 Axes>"
      ]
     },
     "metadata": {
      "needs_background": "light"
     },
     "output_type": "display_data"
    },
    {
     "data": {
      "image/png": "[encoded data removed]",
      "text/plain": [
       "<Figure size 1080x360 with 1 Axes>"
      ]
     },
     "metadata": {
      "needs_background": "light"
     },
     "output_type": "display_data"
    },
    {
     "data": {
      "image/png": "[encoded data removed]",
      "text/plain": [
       "<Figure size 1080x288 with 1 Axes>"
      ]
     },
     "metadata": {
      "needs_background": "light"
     },
     "output_type": "display_data"
    },
    {
     "data": {
      "image/png": "[encoded data removed]",
      "text/plain": [
       "<Figure size 1440x360 with 1 Axes>"
      ]
     },
     "metadata": {
      "needs_background": "light"
     },
     "output_type": "display_data"
    },
    {
     "name": "stdout",
     "output_type": "stream",
     "text": [
      "Time to run AutoViz (in seconds) = 2.189\n",
      "\n",
      " ###################### VISUALIZATION Completed ########################\n"
     ]
    }
   ],
   "source": [
    "df1 = AutoViz_Class()\n",
    "filename = \"\"\n",
    "sep = \",\"\n",
    "\n",
    "graph = df1.AutoViz(\n",
    "    filename, \n",
    "    sep = \",\",\n",
    "    depVar = \"\",\n",
    "    dfte = df, \n",
    "    header = 0,\n",
    "    verbose = 0,\n",
    "    lowess = False,\n",
    "    chart_format = \"svg\",\n",
    "    max_rows_analyzed = 157651,\n",
    "    max_cols_analyzed = 10,\n",
    "    )"
   ]
  },
  {
   "cell_type": "code",
   "execution_count": 38,
   "metadata": {},
   "outputs": [
    {
     "data": {
      "text/html": [
       "<div>\n",
       "<style scoped>\n",
       "    .dataframe tbody tr th:only-of-type {\n",
       "        vertical-align: middle;\n",
       "    }\n",
       "\n",
       "    .dataframe tbody tr th {\n",
       "        vertical-align: top;\n",
       "    }\n",
       "\n",
       "    .dataframe thead th {\n",
       "        text-align: right;\n",
       "    }\n",
       "</style>\n",
       "<table border=\"1\" class=\"dataframe\">\n",
       "  <thead>\n",
       "    <tr style=\"text-align: right;\">\n",
       "      <th></th>\n",
       "      <th>PackageSizeName</th>\n",
       "      <th>MaterialId</th>\n",
       "      <th>Brand</th>\n",
       "      <th>ProdCategory</th>\n",
       "      <th>SoldToCorporate Entity</th>\n",
       "      <th>SoldToBanner</th>\n",
       "      <th>SoldToRegional</th>\n",
       "      <th>SoldToPartner</th>\n",
       "      <th>Date</th>\n",
       "      <th>UnitsSold</th>\n",
       "    </tr>\n",
       "    <tr>\n",
       "      <th>Date</th>\n",
       "      <th></th>\n",
       "      <th></th>\n",
       "      <th></th>\n",
       "      <th></th>\n",
       "      <th></th>\n",
       "      <th></th>\n",
       "      <th></th>\n",
       "      <th></th>\n",
       "      <th></th>\n",
       "      <th></th>\n",
       "    </tr>\n",
       "  </thead>\n",
       "  <tbody>\n",
       "    <tr>\n",
       "      <th>2019-01-05</th>\n",
       "      <td>P_15</td>\n",
       "      <td>M_127</td>\n",
       "      <td>B_3</td>\n",
       "      <td>C_2</td>\n",
       "      <td>SC_34</td>\n",
       "      <td>SB_35</td>\n",
       "      <td>SR_45</td>\n",
       "      <td>SP_104</td>\n",
       "      <td>1/5/2019</td>\n",
       "      <td>NaN</td>\n",
       "    </tr>\n",
       "    <tr>\n",
       "      <th>2019-01-12</th>\n",
       "      <td>P_15</td>\n",
       "      <td>M_127</td>\n",
       "      <td>B_3</td>\n",
       "      <td>C_2</td>\n",
       "      <td>SC_34</td>\n",
       "      <td>SB_35</td>\n",
       "      <td>SR_45</td>\n",
       "      <td>SP_104</td>\n",
       "      <td>1/12/2019</td>\n",
       "      <td>NaN</td>\n",
       "    </tr>\n",
       "    <tr>\n",
       "      <th>2019-01-19</th>\n",
       "      <td>P_15</td>\n",
       "      <td>M_127</td>\n",
       "      <td>B_3</td>\n",
       "      <td>C_2</td>\n",
       "      <td>SC_34</td>\n",
       "      <td>SB_35</td>\n",
       "      <td>SR_45</td>\n",
       "      <td>SP_104</td>\n",
       "      <td>1/19/2019</td>\n",
       "      <td>NaN</td>\n",
       "    </tr>\n",
       "    <tr>\n",
       "      <th>2019-01-26</th>\n",
       "      <td>P_15</td>\n",
       "      <td>M_127</td>\n",
       "      <td>B_3</td>\n",
       "      <td>C_2</td>\n",
       "      <td>SC_34</td>\n",
       "      <td>SB_35</td>\n",
       "      <td>SR_45</td>\n",
       "      <td>SP_104</td>\n",
       "      <td>1/26/2019</td>\n",
       "      <td>NaN</td>\n",
       "    </tr>\n",
       "    <tr>\n",
       "      <th>2019-02-02</th>\n",
       "      <td>P_15</td>\n",
       "      <td>M_127</td>\n",
       "      <td>B_3</td>\n",
       "      <td>C_2</td>\n",
       "      <td>SC_34</td>\n",
       "      <td>SB_35</td>\n",
       "      <td>SR_45</td>\n",
       "      <td>SP_104</td>\n",
       "      <td>2/2/2019</td>\n",
       "      <td>NaN</td>\n",
       "    </tr>\n",
       "  </tbody>\n",
       "</table>\n",
       "</div>"
      ],
      "text/plain": [
       "           PackageSizeName MaterialId Brand ProdCategory  \\\n",
       "Date                                                       \n",
       "2019-01-05            P_15      M_127   B_3          C_2   \n",
       "2019-01-12            P_15      M_127   B_3          C_2   \n",
       "2019-01-19            P_15      M_127   B_3          C_2   \n",
       "2019-01-26            P_15      M_127   B_3          C_2   \n",
       "2019-02-02            P_15      M_127   B_3          C_2   \n",
       "\n",
       "           SoldToCorporate Entity SoldToBanner SoldToRegional SoldToPartner  \\\n",
       "Date                                                                          \n",
       "2019-01-05                  SC_34        SB_35          SR_45        SP_104   \n",
       "2019-01-12                  SC_34        SB_35          SR_45        SP_104   \n",
       "2019-01-19                  SC_34        SB_35          SR_45        SP_104   \n",
       "2019-01-26                  SC_34        SB_35          SR_45        SP_104   \n",
       "2019-02-02                  SC_34        SB_35          SR_45        SP_104   \n",
       "\n",
       "                 Date  UnitsSold  \n",
       "Date                              \n",
       "2019-01-05   1/5/2019        NaN  \n",
       "2019-01-12  1/12/2019        NaN  \n",
       "2019-01-19  1/19/2019        NaN  \n",
       "2019-01-26  1/26/2019        NaN  \n",
       "2019-02-02   2/2/2019        NaN  "
      ]
     },
     "execution_count": 38,
     "metadata": {},
     "output_type": "execute_result"
    }
   ],
   "source": [
    "df.index = pd.to_datetime(df['Date'])\n",
    "#df.drop(columns='Date',inplace=True)\n",
    "df.head()"
   ]
  },
  {
   "cell_type": "code",
   "execution_count": 39,
   "metadata": {},
   "outputs": [
    {
     "data": {
      "text/plain": [
       "PackageSizeName               0\n",
       "MaterialId                    0\n",
       "Brand                         0\n",
       "ProdCategory                  0\n",
       "SoldToCorporate Entity        0\n",
       "SoldToBanner                  0\n",
       "SoldToRegional                0\n",
       "SoldToPartner                 0\n",
       "Date                          0\n",
       "UnitsSold                 56990\n",
       "dtype: int64"
      ]
     },
     "execution_count": 39,
     "metadata": {},
     "output_type": "execute_result"
    }
   ],
   "source": [
    "df.isna().sum()"
   ]
  },
  {
   "cell_type": "code",
   "execution_count": 40,
   "metadata": {},
   "outputs": [
    {
     "data": {
      "text/plain": [
       "<AxesSubplot:xlabel='Date'>"
      ]
     },
     "execution_count": 40,
     "metadata": {},
     "output_type": "execute_result"
    },
    {
     "data": {
      "image/png": "[encoded data removed]",
      "text/plain": [
       "<Figure size 432x288 with 1 Axes>"
      ]
     },
     "metadata": {
      "needs_background": "light"
     },
     "output_type": "display_data"
    }
   ],
   "source": [
    "#plotting the UnitsSold vs Date\n",
    "df.plot()"
   ]
  },
  {
   "cell_type": "code",
   "execution_count": 42,
   "metadata": {},
   "outputs": [
    {
     "data": {
      "text/html": [
       "<div>\n",
       "<style scoped>\n",
       "    .dataframe tbody tr th:only-of-type {\n",
       "        vertical-align: middle;\n",
       "    }\n",
       "\n",
       "    .dataframe tbody tr th {\n",
       "        vertical-align: top;\n",
       "    }\n",
       "\n",
       "    .dataframe thead th {\n",
       "        text-align: right;\n",
       "    }\n",
       "</style>\n",
       "<table border=\"1\" class=\"dataframe\">\n",
       "  <thead>\n",
       "    <tr style=\"text-align: right;\">\n",
       "      <th></th>\n",
       "      <th>UnitsSold</th>\n",
       "    </tr>\n",
       "    <tr>\n",
       "      <th>Date</th>\n",
       "      <th></th>\n",
       "    </tr>\n",
       "  </thead>\n",
       "  <tbody>\n",
       "    <tr>\n",
       "      <th>2019-01-05</th>\n",
       "      <td>NaN</td>\n",
       "    </tr>\n",
       "    <tr>\n",
       "      <th>2019-01-12</th>\n",
       "      <td>NaN</td>\n",
       "    </tr>\n",
       "    <tr>\n",
       "      <th>2019-01-19</th>\n",
       "      <td>NaN</td>\n",
       "    </tr>\n",
       "    <tr>\n",
       "      <th>2019-01-26</th>\n",
       "      <td>NaN</td>\n",
       "    </tr>\n",
       "    <tr>\n",
       "      <th>2019-02-02</th>\n",
       "      <td>NaN</td>\n",
       "    </tr>\n",
       "  </tbody>\n",
       "</table>\n",
       "</div>"
      ],
      "text/plain": [
       "            UnitsSold\n",
       "Date                 \n",
       "2019-01-05        NaN\n",
       "2019-01-12        NaN\n",
       "2019-01-19        NaN\n",
       "2019-01-26        NaN\n",
       "2019-02-02        NaN"
      ]
     },
     "execution_count": 42,
     "metadata": {},
     "output_type": "execute_result"
    }
   ],
   "source": [
    "#Let's narrow the df down to just Date and UnitsSold to inspect those components only with the seasonal decomposition\n",
    "df2 = df[['UnitsSold']]\n",
    "df2.head()"
   ]
  },
  {
   "cell_type": "code",
   "execution_count": 43,
   "metadata": {},
   "outputs": [
    {
     "ename": "ValueError",
     "evalue": "This function does not handle missing values",
     "output_type": "error",
     "traceback": [
      "\u001b[1;31m---------------------------------------------------------------------------\u001b[0m",
      "\u001b[1;31mValueError\u001b[0m                                Traceback (most recent call last)",
      "\u001b[1;32m<ipython-input-43-00e590462902>\u001b[0m in \u001b[0;36m<module>\u001b[1;34m\u001b[0m\n\u001b[0;32m      3\u001b[0m \u001b[1;33m\u001b[0m\u001b[0m\n\u001b[0;32m      4\u001b[0m \u001b[1;32mfrom\u001b[0m \u001b[0mstatsmodels\u001b[0m\u001b[1;33m.\u001b[0m\u001b[0mtsa\u001b[0m\u001b[1;33m.\u001b[0m\u001b[0mseasonal\u001b[0m \u001b[1;32mimport\u001b[0m \u001b[0mseasonal_decompose\u001b[0m\u001b[1;33m\u001b[0m\u001b[1;33m\u001b[0m\u001b[0m\n\u001b[1;32m----> 5\u001b[1;33m \u001b[0mdecompose_df2\u001b[0m \u001b[1;33m=\u001b[0m \u001b[0mseasonal_decompose\u001b[0m\u001b[1;33m(\u001b[0m\u001b[0mdf2\u001b[0m\u001b[1;33m,\u001b[0m \u001b[0mmodel\u001b[0m\u001b[1;33m=\u001b[0m\u001b[1;34m\"additive\"\u001b[0m\u001b[1;33m)\u001b[0m\u001b[1;33m\u001b[0m\u001b[1;33m\u001b[0m\u001b[0m\n\u001b[0m\u001b[0;32m      6\u001b[0m \u001b[0mdecompose_df2\u001b[0m\u001b[1;33m.\u001b[0m\u001b[0mplot\u001b[0m\u001b[1;33m(\u001b[0m\u001b[1;33m)\u001b[0m\u001b[1;33m;\u001b[0m\u001b[1;33m\u001b[0m\u001b[1;33m\u001b[0m\u001b[0m\n",
      "\u001b[1;32m~\\anaconda3\\lib\\site-packages\\pandas\\util\\_decorators.py\u001b[0m in \u001b[0;36mwrapper\u001b[1;34m(*args, **kwargs)\u001b[0m\n\u001b[0;32m    197\u001b[0m                 \u001b[1;32melse\u001b[0m\u001b[1;33m:\u001b[0m\u001b[1;33m\u001b[0m\u001b[1;33m\u001b[0m\u001b[0m\n\u001b[0;32m    198\u001b[0m                     \u001b[0mkwargs\u001b[0m\u001b[1;33m[\u001b[0m\u001b[0mnew_arg_name\u001b[0m\u001b[1;33m]\u001b[0m \u001b[1;33m=\u001b[0m \u001b[0mnew_arg_value\u001b[0m\u001b[1;33m\u001b[0m\u001b[1;33m\u001b[0m\u001b[0m\n\u001b[1;32m--> 199\u001b[1;33m             \u001b[1;32mreturn\u001b[0m \u001b[0mfunc\u001b[0m\u001b[1;33m(\u001b[0m\u001b[1;33m*\u001b[0m\u001b[0margs\u001b[0m\u001b[1;33m,\u001b[0m \u001b[1;33m**\u001b[0m\u001b[0mkwargs\u001b[0m\u001b[1;33m)\u001b[0m\u001b[1;33m\u001b[0m\u001b[1;33m\u001b[0m\u001b[0m\n\u001b[0m\u001b[0;32m    200\u001b[0m \u001b[1;33m\u001b[0m\u001b[0m\n\u001b[0;32m    201\u001b[0m         \u001b[1;32mreturn\u001b[0m \u001b[0mcast\u001b[0m\u001b[1;33m(\u001b[0m\u001b[0mF\u001b[0m\u001b[1;33m,\u001b[0m \u001b[0mwrapper\u001b[0m\u001b[1;33m)\u001b[0m\u001b[1;33m\u001b[0m\u001b[1;33m\u001b[0m\u001b[0m\n",
      "\u001b[1;32m~\\anaconda3\\lib\\site-packages\\statsmodels\\tsa\\seasonal.py\u001b[0m in \u001b[0;36mseasonal_decompose\u001b[1;34m(x, model, filt, period, two_sided, extrapolate_trend)\u001b[0m\n\u001b[0;32m    129\u001b[0m \u001b[1;33m\u001b[0m\u001b[0m\n\u001b[0;32m    130\u001b[0m     \u001b[1;32mif\u001b[0m \u001b[1;32mnot\u001b[0m \u001b[0mnp\u001b[0m\u001b[1;33m.\u001b[0m\u001b[0mall\u001b[0m\u001b[1;33m(\u001b[0m\u001b[0mnp\u001b[0m\u001b[1;33m.\u001b[0m\u001b[0misfinite\u001b[0m\u001b[1;33m(\u001b[0m\u001b[0mx\u001b[0m\u001b[1;33m)\u001b[0m\u001b[1;33m)\u001b[0m\u001b[1;33m:\u001b[0m\u001b[1;33m\u001b[0m\u001b[1;33m\u001b[0m\u001b[0m\n\u001b[1;32m--> 131\u001b[1;33m         \u001b[1;32mraise\u001b[0m \u001b[0mValueError\u001b[0m\u001b[1;33m(\u001b[0m\u001b[1;34m\"This function does not handle missing values\"\u001b[0m\u001b[1;33m)\u001b[0m\u001b[1;33m\u001b[0m\u001b[1;33m\u001b[0m\u001b[0m\n\u001b[0m\u001b[0;32m    132\u001b[0m     \u001b[1;32mif\u001b[0m \u001b[0mmodel\u001b[0m\u001b[1;33m.\u001b[0m\u001b[0mstartswith\u001b[0m\u001b[1;33m(\u001b[0m\u001b[1;34m'm'\u001b[0m\u001b[1;33m)\u001b[0m\u001b[1;33m:\u001b[0m\u001b[1;33m\u001b[0m\u001b[1;33m\u001b[0m\u001b[0m\n\u001b[0;32m    133\u001b[0m         \u001b[1;32mif\u001b[0m \u001b[0mnp\u001b[0m\u001b[1;33m.\u001b[0m\u001b[0many\u001b[0m\u001b[1;33m(\u001b[0m\u001b[0mx\u001b[0m \u001b[1;33m<=\u001b[0m \u001b[1;36m0\u001b[0m\u001b[1;33m)\u001b[0m\u001b[1;33m:\u001b[0m\u001b[1;33m\u001b[0m\u001b[1;33m\u001b[0m\u001b[0m\n",
      "\u001b[1;31mValueError\u001b[0m: This function does not handle missing values"
     ]
    }
   ],
   "source": [
    "# let's see the various decompositions embedded in the data\n",
    "\n",
    "\n",
    "from statsmodels.tsa.seasonal import seasonal_decompose\n",
    "decompose_df2 = seasonal_decompose(df2, model=\"additive\")\n",
    "decompose_df2.plot();\n",
    "\n",
    "###Note: Started running through the SARIMA model and did not clean out the\n",
    "### NUll UnitsSold values, and it returned this result: \"ValueError: This function does not handle missing values\" \n",
    "\n",
    "### that tell's me that 1) I need another model for the base data besides SARIMA, 2) the other datasets will work in this model"
   ]
  },
  {
   "cell_type": "code",
   "execution_count": null,
   "metadata": {},
   "outputs": [],
   "source": []
  }
 ],
 "metadata": {
  "kernelspec": {
   "display_name": "Python 3",
   "language": "python",
   "name": "python3"
  },
  "language_info": {
   "codemirror_mode": {
    "name": "ipython",
    "version": 3
   },
   "file_extension": ".py",
   "mimetype": "text/x-python",
   "name": "python",
   "nbconvert_exporter": "python",
   "pygments_lexer": "ipython3",
   "version": "3.8.5"
  }
 },
 "nbformat": 4,
 "nbformat_minor": 4
}
